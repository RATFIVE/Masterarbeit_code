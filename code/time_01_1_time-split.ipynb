{
 "cells": [
  {
   "cell_type": "markdown",
   "id": "27b78c75-7dbd-40f9-bb8c-cf6759f8c577",
   "metadata": {},
   "source": [
    "# A Toy Example for the Time Series Split\n",
    "<div class=\"alert alert-block alert-info\">\n",
    "<b>Content:</b> In this notebook,\n",
    "    we demonstrate the time series split using a very small demo example\n",
    "    \n",
    "* where we look at a time series\n",
    "* try to predict the next element in the series\n",
    "* use a window-length of 2\n",
    "</div>"
   ]
  },
  {
   "cell_type": "code",
   "execution_count": 2,
   "id": "b1137b4d-8aa9-498e-adcd-01b0ddc38fd8",
   "metadata": {},
   "outputs": [],
   "source": [
    "import numpy as np\n",
    "from sklearn.model_selection import TimeSeriesSplit"
   ]
  },
  {
   "cell_type": "code",
   "execution_count": 10,
   "id": "8646261d",
   "metadata": {},
   "outputs": [
    {
     "name": "stdout",
     "output_type": "stream",
     "text": [
      "TRAIN: [0 1 2 3] TEST: [4 5 6]\n",
      "X_train: [100 101 102 103] X_test: [104 105 106]\n",
      "y_train: [200 201 202 203] y_test: [204 205 206]\n",
      "\n",
      "TRAIN: [0 1 2 3 4 5 6] TEST: [7 8 9]\n",
      "X_train: [100 101 102 103 104 105 106] X_test: [107 108 109]\n",
      "y_train: [200 201 202 203 204 205 206] y_test: [207 208 209]\n",
      "\n"
     ]
    }
   ],
   "source": [
    "tscv = TimeSeriesSplit(n_splits=2)\n",
    "X = np.arange(100, 110)\n",
    "y = np.arange(200, 210)\n",
    "for train_idx, test_idx in tscv.split(X):\n",
    "    print(\"TRAIN:\", train_idx, \"TEST:\", test_idx)\n",
    "    X_train, X_test = X[train_idx], X[test_idx]\n",
    "    y_train, y_test = y[train_idx], y[test_idx]\n",
    "    print(\"X_train:\", X_train, \"X_test:\", X_test)\n",
    "    print(\"y_train:\", y_train, \"y_test:\", y_test)\n",
    "    print()"
   ]
  },
  {
   "cell_type": "code",
   "execution_count": 11,
   "id": "5da61a54",
   "metadata": {},
   "outputs": [
    {
     "data": {
      "text/plain": [
       "(array([100, 101, 102, 103, 104, 105, 106]),\n",
       " array([200, 201, 202, 203, 204, 205, 206]))"
      ]
     },
     "execution_count": 11,
     "metadata": {},
     "output_type": "execute_result"
    }
   ],
   "source": [
    "for train_idx, test_idx in tscv.split(X):\n",
    "    pass\n",
    "\n",
    "X[train_idx], y[train_idx]"
   ]
  },
  {
   "cell_type": "code",
   "execution_count": 12,
   "id": "e56312c8",
   "metadata": {},
   "outputs": [
    {
     "data": {
      "text/plain": [
       "(array([107, 108, 109]), array([207, 208, 209]))"
      ]
     },
     "execution_count": 12,
     "metadata": {},
     "output_type": "execute_result"
    }
   ],
   "source": [
    "X[test_idx], y[test_idx]"
   ]
  },
  {
   "cell_type": "code",
   "execution_count": 3,
   "id": "18e450ae-92a2-43e0-a045-1a267c922b76",
   "metadata": {},
   "outputs": [],
   "source": [
    "def print_walk_forward_folds(ts_split, X, y):\n",
    "    for i, (train_index, test_index) in enumerate(tscv.split(X)):\n",
    "        print(f\"\\nFold {i}:\")\n",
    "        print(\"Train: X=\", np.array2string(X[train_index]).replace('\\n', ','), \"\\n       Y=\", y[train_index])\n",
    "        print(\"Test: X=\", np.array2string(X[test_index]).replace('\\n', ','), \"\\n      Y=\", y[test_index])"
   ]
  },
  {
   "cell_type": "markdown",
   "id": "c09f0949-3431-4d21-902a-7e4487b874d1",
   "metadata": {},
   "source": [
    "## Default Split\n",
    "Let the time series be\n",
    "$1, 2, 3,\\ldots$\n",
    "\n",
    "Let's create time windows of size $2$ in $X$ and the corresponding targets in $y$."
   ]
  },
  {
   "cell_type": "code",
   "execution_count": 4,
   "id": "c62a0378-1812-434d-92d5-637915000f33",
   "metadata": {},
   "outputs": [
    {
     "data": {
      "text/plain": [
       "(array([[ 1,  2],\n",
       "        [ 2,  3],\n",
       "        [ 3,  4],\n",
       "        [ 4,  5],\n",
       "        [ 5,  6],\n",
       "        [ 6,  7],\n",
       "        [ 7,  8],\n",
       "        [ 8,  9],\n",
       "        [ 9, 10],\n",
       "        [10, 11]]),\n",
       " array([ 3,  4,  5,  6,  7,  8,  9, 10, 11, 12]))"
      ]
     },
     "execution_count": 4,
     "metadata": {},
     "output_type": "execute_result"
    }
   ],
   "source": [
    "X1=np.arange(1,11)\n",
    "X2=np.arange(2,12)\n",
    "Y=np.arange(3,13)\n",
    "X=np.transpose(np.array([X1,X2]))\n",
    "X,Y"
   ]
  },
  {
   "cell_type": "code",
   "execution_count": 5,
   "id": "51d7f06f-4dc0-47e7-81c2-c9350febebed",
   "metadata": {},
   "outputs": [
    {
     "name": "stdout",
     "output_type": "stream",
     "text": [
      "\n",
      "Fold 0:\n",
      "Train: X= [[1 2], [2 3], [3 4], [4 5], [5 6]] \n",
      "       Y= [3 4 5 6 7]\n",
      "Test: X= [[6 7]] \n",
      "      Y= [8]\n",
      "\n",
      "Fold 1:\n",
      "Train: X= [[1 2], [2 3], [3 4], [4 5], [5 6], [6 7]] \n",
      "       Y= [3 4 5 6 7 8]\n",
      "Test: X= [[7 8]] \n",
      "      Y= [9]\n",
      "\n",
      "Fold 2:\n",
      "Train: X= [[1 2], [2 3], [3 4], [4 5], [5 6], [6 7], [7 8]] \n",
      "       Y= [3 4 5 6 7 8 9]\n",
      "Test: X= [[8 9]] \n",
      "      Y= [10]\n",
      "\n",
      "Fold 3:\n",
      "Train: X= [[1 2], [2 3], [3 4], [4 5], [5 6], [6 7], [7 8], [8 9]] \n",
      "       Y= [ 3  4  5  6  7  8  9 10]\n",
      "Test: X= [[ 9 10]] \n",
      "      Y= [11]\n",
      "\n",
      "Fold 4:\n",
      "Train: X= [[ 1  2], [ 2  3], [ 3  4], [ 4  5], [ 5  6], [ 6  7], [ 7  8], [ 8  9], [ 9 10]] \n",
      "       Y= [ 3  4  5  6  7  8  9 10 11]\n",
      "Test: X= [[10 11]] \n",
      "      Y= [12]\n"
     ]
    }
   ],
   "source": [
    "tscv = TimeSeriesSplit()\n",
    "# default is 5 splits\n",
    "print_walk_forward_folds(tscv, X, Y)"
   ]
  },
  {
   "cell_type": "markdown",
   "id": "dca3ff08-9f9b-4be4-890b-bce10e24d0c1",
   "metadata": {},
   "source": [
    "## Parametrizing the split"
   ]
  },
  {
   "cell_type": "code",
   "execution_count": 20,
   "id": "7c660394-f977-4d60-a5df-d5dd294ef16c",
   "metadata": {
    "tags": []
   },
   "outputs": [
    {
     "name": "stdout",
     "output_type": "stream",
     "text": [
      "\n",
      "Fold 0:\n",
      "Train: X= [0 1 2 3 4 5] \n",
      "       Y= [3 4 5 6 7 8]\n",
      "Test: X= [6 7 8] \n",
      "      Y= [ 9 10 11]\n",
      "\n",
      "Fold 1:\n",
      "Train: X= [0 1 2 3 4 5 6 7 8] \n",
      "       Y= [ 3  4  5  6  7  8  9 10 11]\n"
     ]
    },
    {
     "ename": "IndexError",
     "evalue": "index 10 is out of bounds for axis 0 with size 10",
     "output_type": "error",
     "traceback": [
      "\u001b[31m---------------------------------------------------------------------------\u001b[39m",
      "\u001b[31mIndexError\u001b[39m                                Traceback (most recent call last)",
      "\u001b[36mCell\u001b[39m\u001b[36m \u001b[39m\u001b[32mIn[20]\u001b[39m\u001b[32m, line 3\u001b[39m\n\u001b[32m      1\u001b[39m \u001b[38;5;66;03m# Fix test_size to 2 with 12 samples\u001b[39;00m\n\u001b[32m      2\u001b[39m tscv = TimeSeriesSplit(n_splits=\u001b[32m2\u001b[39m, test_size=\u001b[32m3\u001b[39m)\n\u001b[32m----> \u001b[39m\u001b[32m3\u001b[39m \u001b[43mprint_walk_forward_folds\u001b[49m\u001b[43m(\u001b[49m\u001b[43mtscv\u001b[49m\u001b[43m,\u001b[49m\u001b[43m \u001b[49m\u001b[43mX\u001b[49m\u001b[43m,\u001b[49m\u001b[43m \u001b[49m\u001b[43mY\u001b[49m\u001b[43m)\u001b[49m\n",
      "\u001b[36mCell\u001b[39m\u001b[36m \u001b[39m\u001b[32mIn[3]\u001b[39m\u001b[32m, line 5\u001b[39m, in \u001b[36mprint_walk_forward_folds\u001b[39m\u001b[34m(ts_split, X, y)\u001b[39m\n\u001b[32m      3\u001b[39m \u001b[38;5;28mprint\u001b[39m(\u001b[33mf\u001b[39m\u001b[33m\"\u001b[39m\u001b[38;5;130;01m\\n\u001b[39;00m\u001b[33mFold \u001b[39m\u001b[38;5;132;01m{\u001b[39;00mi\u001b[38;5;132;01m}\u001b[39;00m\u001b[33m:\u001b[39m\u001b[33m\"\u001b[39m)\n\u001b[32m      4\u001b[39m \u001b[38;5;28mprint\u001b[39m(\u001b[33m\"\u001b[39m\u001b[33mTrain: X=\u001b[39m\u001b[33m\"\u001b[39m, np.array2string(X[train_index]).replace(\u001b[33m'\u001b[39m\u001b[38;5;130;01m\\n\u001b[39;00m\u001b[33m'\u001b[39m, \u001b[33m'\u001b[39m\u001b[33m,\u001b[39m\u001b[33m'\u001b[39m), \u001b[33m\"\u001b[39m\u001b[38;5;130;01m\\n\u001b[39;00m\u001b[33m       Y=\u001b[39m\u001b[33m\"\u001b[39m, y[train_index])\n\u001b[32m----> \u001b[39m\u001b[32m5\u001b[39m \u001b[38;5;28mprint\u001b[39m(\u001b[33m\"\u001b[39m\u001b[33mTest: X=\u001b[39m\u001b[33m\"\u001b[39m, np.array2string(X[test_index]).replace(\u001b[33m'\u001b[39m\u001b[38;5;130;01m\\n\u001b[39;00m\u001b[33m'\u001b[39m, \u001b[33m'\u001b[39m\u001b[33m,\u001b[39m\u001b[33m'\u001b[39m), \u001b[33m\"\u001b[39m\u001b[38;5;130;01m\\n\u001b[39;00m\u001b[33m      Y=\u001b[39m\u001b[33m\"\u001b[39m, \u001b[43my\u001b[49m\u001b[43m[\u001b[49m\u001b[43mtest_index\u001b[49m\u001b[43m]\u001b[49m)\n",
      "\u001b[31mIndexError\u001b[39m: index 10 is out of bounds for axis 0 with size 10"
     ]
    }
   ],
   "source": [
    "# Fix test_size to 2 with 12 samples\n",
    "tscv = TimeSeriesSplit(n_splits=2, test_size=3)\n",
    "print_walk_forward_folds(tscv, X, Y)"
   ]
  },
  {
   "cell_type": "code",
   "execution_count": 37,
   "id": "a4d195f4-d73e-4194-9cfd-c200428f8d04",
   "metadata": {},
   "outputs": [],
   "source": [
    "X=np.arange(24*7*100)"
   ]
  },
  {
   "cell_type": "code",
   "execution_count": 38,
   "id": "63d248fc-b467-471f-b2ff-5c06b0d8d5b3",
   "metadata": {},
   "outputs": [
    {
     "name": "stdout",
     "output_type": "stream",
     "text": [
      "\n",
      "Fold 0:\n",
      "Train: X= [    0     1     2 ... 16557 16558 16559] \n",
      "       Y= [    1     2     3 ... 16558 16559 16560]\n",
      "Test: X= [16560 16561 16562 16563 16564 16565 16566 16567 16568 16569 16570 16571, 16572 16573 16574 16575 16576 16577 16578 16579 16580 16581 16582 16583] \n",
      "      Y= [16561 16562 16563 16564 16565 16566 16567 16568 16569 16570 16571 16572\n",
      " 16573 16574 16575 16576 16577 16578 16579 16580 16581 16582 16583 16584]\n",
      "\n",
      "Fold 1:\n",
      "Train: X= [    0     1     2 ... 16581 16582 16583] \n",
      "       Y= [    1     2     3 ... 16582 16583 16584]\n",
      "Test: X= [16584 16585 16586 16587 16588 16589 16590 16591 16592 16593 16594 16595, 16596 16597 16598 16599 16600 16601 16602 16603 16604 16605 16606 16607] \n",
      "      Y= [16585 16586 16587 16588 16589 16590 16591 16592 16593 16594 16595 16596\n",
      " 16597 16598 16599 16600 16601 16602 16603 16604 16605 16606 16607 16608]\n",
      "\n",
      "Fold 2:\n",
      "Train: X= [    0     1     2 ... 16605 16606 16607] \n",
      "       Y= [    1     2     3 ... 16606 16607 16608]\n",
      "Test: X= [16608 16609 16610 16611 16612 16613 16614 16615 16616 16617 16618 16619, 16620 16621 16622 16623 16624 16625 16626 16627 16628 16629 16630 16631] \n",
      "      Y= [16609 16610 16611 16612 16613 16614 16615 16616 16617 16618 16619 16620\n",
      " 16621 16622 16623 16624 16625 16626 16627 16628 16629 16630 16631 16632]\n",
      "\n",
      "Fold 3:\n",
      "Train: X= [    0     1     2 ... 16629 16630 16631] \n",
      "       Y= [    1     2     3 ... 16630 16631 16632]\n",
      "Test: X= [16632 16633 16634 16635 16636 16637 16638 16639 16640 16641 16642 16643, 16644 16645 16646 16647 16648 16649 16650 16651 16652 16653 16654 16655] \n",
      "      Y= [16633 16634 16635 16636 16637 16638 16639 16640 16641 16642 16643 16644\n",
      " 16645 16646 16647 16648 16649 16650 16651 16652 16653 16654 16655 16656]\n",
      "\n",
      "Fold 4:\n",
      "Train: X= [    0     1     2 ... 16653 16654 16655] \n",
      "       Y= [    1     2     3 ... 16654 16655 16656]\n",
      "Test: X= [16656 16657 16658 16659 16660 16661 16662 16663 16664 16665 16666 16667, 16668 16669 16670 16671 16672 16673 16674 16675 16676 16677 16678 16679] \n",
      "      Y= [16657 16658 16659 16660 16661 16662 16663 16664 16665 16666 16667 16668\n",
      " 16669 16670 16671 16672 16673 16674 16675 16676 16677 16678 16679 16680]\n",
      "\n",
      "Fold 5:\n",
      "Train: X= [    0     1     2 ... 16677 16678 16679] \n",
      "       Y= [    1     2     3 ... 16678 16679 16680]\n",
      "Test: X= [16680 16681 16682 16683 16684 16685 16686 16687 16688 16689 16690 16691, 16692 16693 16694 16695 16696 16697 16698 16699 16700 16701 16702 16703] \n",
      "      Y= [16681 16682 16683 16684 16685 16686 16687 16688 16689 16690 16691 16692\n",
      " 16693 16694 16695 16696 16697 16698 16699 16700 16701 16702 16703 16704]\n",
      "\n",
      "Fold 6:\n",
      "Train: X= [    0     1     2 ... 16701 16702 16703] \n",
      "       Y= [    1     2     3 ... 16702 16703 16704]\n",
      "Test: X= [16704 16705 16706 16707 16708 16709 16710 16711 16712 16713 16714 16715, 16716 16717 16718 16719 16720 16721 16722 16723 16724 16725 16726 16727] \n",
      "      Y= [16705 16706 16707 16708 16709 16710 16711 16712 16713 16714 16715 16716\n",
      " 16717 16718 16719 16720 16721 16722 16723 16724 16725 16726 16727 16728]\n",
      "\n",
      "Fold 7:\n",
      "Train: X= [    0     1     2 ... 16725 16726 16727] \n",
      "       Y= [    1     2     3 ... 16726 16727 16728]\n",
      "Test: X= [16728 16729 16730 16731 16732 16733 16734 16735 16736 16737 16738 16739, 16740 16741 16742 16743 16744 16745 16746 16747 16748 16749 16750 16751] \n",
      "      Y= [16729 16730 16731 16732 16733 16734 16735 16736 16737 16738 16739 16740\n",
      " 16741 16742 16743 16744 16745 16746 16747 16748 16749 16750 16751 16752]\n",
      "\n",
      "Fold 8:\n",
      "Train: X= [    0     1     2 ... 16749 16750 16751] \n",
      "       Y= [    1     2     3 ... 16750 16751 16752]\n",
      "Test: X= [16752 16753 16754 16755 16756 16757 16758 16759 16760 16761 16762 16763, 16764 16765 16766 16767 16768 16769 16770 16771 16772 16773 16774 16775] \n",
      "      Y= [16753 16754 16755 16756 16757 16758 16759 16760 16761 16762 16763 16764\n",
      " 16765 16766 16767 16768 16769 16770 16771 16772 16773 16774 16775 16776]\n",
      "\n",
      "Fold 9:\n",
      "Train: X= [    0     1     2 ... 16773 16774 16775] \n",
      "       Y= [    1     2     3 ... 16774 16775 16776]\n",
      "Test: X= [16776 16777 16778 16779 16780 16781 16782 16783 16784 16785 16786 16787, 16788 16789 16790 16791 16792 16793 16794 16795 16796 16797 16798 16799] \n",
      "      Y= [16777 16778 16779 16780 16781 16782 16783 16784 16785 16786 16787 16788\n",
      " 16789 16790 16791 16792 16793 16794 16795 16796 16797 16798 16799 16800]\n"
     ]
    }
   ],
   "source": [
    "tscv = TimeSeriesSplit(n_splits=10, test_size=24)\n",
    "print_walk_forward_folds(tscv, X, X+1)"
   ]
  },
  {
   "cell_type": "code",
   "execution_count": null,
   "id": "eab0c285-70ea-4c9d-85d0-ad17b1e0049b",
   "metadata": {},
   "outputs": [],
   "source": []
  }
 ],
 "metadata": {
  "kernelspec": {
   "display_name": ".venv",
   "language": "python",
   "name": "python3"
  },
  "language_info": {
   "codemirror_mode": {
    "name": "ipython",
    "version": 3
   },
   "file_extension": ".py",
   "mimetype": "text/x-python",
   "name": "python",
   "nbconvert_exporter": "python",
   "pygments_lexer": "ipython3",
   "version": "3.11.12"
  }
 },
 "nbformat": 4,
 "nbformat_minor": 5
}
