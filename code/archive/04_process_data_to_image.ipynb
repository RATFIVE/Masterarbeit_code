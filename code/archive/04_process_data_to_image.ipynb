{
 "cells": [
  {
   "cell_type": "code",
   "execution_count": null,
   "metadata": {},
   "outputs": [],
   "source": []
  },
  {
   "cell_type": "code",
   "execution_count": null,
   "metadata": {},
   "outputs": [],
   "source": [
    "file_path = \n",
    "df = ..."
   ]
  },
  {
   "cell_type": "code",
   "execution_count": null,
   "metadata": {},
   "outputs": [],
   "source": [
    "import numpy as np\n",
    "import pandas as pd\n",
    "from tqdm import tqdm\n",
    "from joblib import Parallel, delayed\n",
    "\n",
    "\n",
    "# 1. Zeitsäule formatieren\n",
    "df['time'] = pd.to_datetime(df['time'])\n",
    "unique_times = df['time'].dt.strftime('%Y-%m-%d %H:00:00').unique()\n",
    "\n",
    "# Funktion zur Koordinaten-Mapping\n",
    "def map_coordinates_to_grid(df):\n",
    "    latitudes = df['latitude'].unique()\n",
    "    longitudes = df['longitude'].unique()\n",
    "    latitude_map = {lat: idx for idx, lat in enumerate(latitudes)}\n",
    "    longitude_map = {lon: idx for idx, lon in enumerate(longitudes)}\n",
    "    return latitude_map, longitude_map, len(latitudes), len(longitudes)\n",
    "\n",
    "# Funktion zur Bilderstellung\n",
    "def create_image_for_time(df, latitude_map, longitude_map, img_height, img_width):\n",
    "    cols = [col for col in df.columns if df[col].dtype in [np.float64, np.float32]]\n",
    "    cols = [col for col in cols if col not in ['latitude', 'longitude']]\n",
    "    \n",
    "    image = np.zeros((img_height, img_width, len(cols)), dtype=np.float32)\n",
    "    \n",
    "    for _, row in df.iterrows():\n",
    "        lat_idx = latitude_map[row['latitude']]\n",
    "        lon_idx = longitude_map[row['longitude']]\n",
    "        for col in cols:\n",
    "            image[lat_idx, lon_idx, cols.index(col)] = row[col]\n",
    "    \n",
    "    return image\n",
    "\n",
    "# Funktion für parallele Verarbeitung eines Zeitpunkts\n",
    "def process_time_point(time_point):\n",
    "    time_data = df[df['time'].dt.strftime('%Y-%m-%d %H:00:00') == time_point]\n",
    "    latitude_map, longitude_map, img_height, img_width = map_coordinates_to_grid(time_data)\n",
    "    image = create_image_for_time(time_data, latitude_map, longitude_map, img_height, img_width)\n",
    "    return time_point, np.array(image)\n",
    "\n",
    "# Parallelisierung mit Joblib\n",
    "num_cores = -1  # Nutzt alle verfügbaren CPU-Kerne\n",
    "results = Parallel(n_jobs=num_cores)(\n",
    "    delayed(process_time_point)(time_point) for time_point in tqdm(unique_times, desc='Processing images')\n",
    ")\n",
    "\n",
    "# Ergebnisse in ein Dictionary umwandeln\n",
    "learning_data = {time_point: image for time_point, image in results}\n"
   ]
  }
 ],
 "metadata": {
  "language_info": {
   "name": "python"
  }
 },
 "nbformat": 4,
 "nbformat_minor": 2
}
