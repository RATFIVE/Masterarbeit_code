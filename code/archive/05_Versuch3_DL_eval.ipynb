{
 "cells": [
  {
   "cell_type": "markdown",
   "id": "c925253a",
   "metadata": {},
   "source": [
    "# Import Libaries"
   ]
  },
  {
   "cell_type": "code",
   "execution_count": 12,
   "id": "3c917691",
   "metadata": {},
   "outputs": [],
   "source": [
    "import argparse\n",
    "import warnings\n",
    "from pathlib import Path\n",
    "from pprint import pprint\n",
    "import matplotlib.pyplot as plt\n",
    "import time\n",
    "from torch import nn\n",
    "from torch.optim.lr_scheduler import ReduceLROnPlateau\n",
    "from torch.utils.data import DataLoader, TensorDataset\n",
    "from torch.utils.tensorboard import SummaryWriter\n",
    "import matplotlib.pyplot as plt\n",
    "import matplotlib.dates as mdates\n",
    "import numpy as np\n",
    "from torch.utils.data import TensorDataset, DataLoader\n",
    "import torch\n",
    "import torch.nn as nn\n",
    "from sklearn.preprocessing import StandardScaler\n",
    "import optuna\n",
    "import copy\n",
    "\n",
    "from torch.optim.lr_scheduler import ReduceLROnPlateau\n",
    "# import mse \n",
    "from sklearn.metrics import mean_squared_error\n",
    "import pandas as pd\n",
    "from utils.ml_helper_functions import load_data, load_data_v2\n",
    "\n",
    "import torch.nn as nn\n",
    "\n",
    "torch.manual_seed(42)\n",
    "\n",
    "np.random.seed(42)"
   ]
  },
  {
   "cell_type": "markdown",
   "id": "76996998",
   "metadata": {},
   "source": [
    "## Load Data"
   ]
  },
  {
   "cell_type": "code",
   "execution_count": 13,
   "id": "1d420860",
   "metadata": {},
   "outputs": [
    {
     "name": "stdout",
     "output_type": "stream",
     "text": [
      "\n",
      "Loading data from:\n",
      "../data/numerical_data/points30\n",
      "../data/numerical_data/points10\n",
      "\n",
      "Loading ocean, weather and insitu data...\n",
      "\n",
      "Shapes of loaded DataFrames before feature engineering:\n",
      "Ocean DataFrame: (9415187, 14)\n",
      "Weather DataFrame: (2018400, 22)\n",
      "Insitu DataFrame: (20161, 2)\n",
      "\n",
      "Feature engineering...\n",
      "\n",
      "Shapes of loaded DataFrames after feature engineering:\n",
      "Ocean DataFrame: (9415187, 11)\n",
      "Weather DataFrame: (2018400, 8)\n",
      "Insitu DataFrame: (20161, 2)\n",
      "\n",
      "Converting DataFrames to xarray DataArrays...\n",
      "\n",
      "Running EOF analysis on ocean and weather data...\n",
      "\n",
      "Converting DataArrays with PCs back to DataFrames...\n",
      "\n",
      "Merging PCs with insitu data...\n",
      "\n",
      "Shape of merged DataFrame with PCs: (20161, 98)\n",
      "\n",
      "Preparing ML data...\n",
      "\n",
      "Sum of NaN values in each column:\n",
      "ds              0\n",
      "bottomT_PC_1    0\n",
      "bottomT_PC_2    0\n",
      "bottomT_PC_3    0\n",
      "bottomT_PC_4    0\n",
      "               ..\n",
      "wind_v_PC_6     0\n",
      "wind_v_PC_7     0\n",
      "wind_v_PC_8     0\n",
      "y               0\n",
      "unique_id       0\n",
      "Length: 99, dtype: int64\n",
      "Shape of prepared ML DataFrame: (20161, 99)\n",
      "\n",
      "Columns in the prepared DataFrame:\n",
      "['ds', 'bottomT_PC_1', 'bottomT_PC_2', 'bottomT_PC_3', 'bottomT_PC_4', 'sla_PC_1', 'sla_PC_2', 'sla_PC_3', 'so_PC_1', 'so_PC_2', 'so_PC_3', 'so_PC_4', 'so_PC_5', 'so_PC_6', 'so_PC_7', 'so_PC_8', 'so_PC_9', 'so_PC_10', 'so_PC_11', 'so_PC_12', 'so_PC_13', 'so_PC_14', 'so_PC_15', 'so_PC_16', 'so_PC_17', 'so_PC_18', 'so_PC_19', 'so_PC_20', 'so_PC_21', 'sob_PC_1', 'sob_PC_2', 'sob_PC_3', 'sob_PC_4', 'sob_PC_5', 'sob_PC_6', 'sob_PC_7', 'sob_PC_8', 'sob_PC_9', 'sob_PC_10', 'sob_PC_11', 'sob_PC_12', 'sob_PC_13', 'sob_PC_14', 'sob_PC_15', 'sob_PC_16', 'sob_PC_17', 'sob_PC_18', 'sob_PC_19', 'sob_PC_20', 'sob_PC_21', 'sob_PC_22', 'sob_PC_23', 'sob_PC_24', 'sob_PC_25', 'sob_PC_26', 'thetao_PC_1', 'uo_PC_1', 'vo_PC_1', 'wo_PC_1', 'wo_PC_2', 'wo_PC_3', 'wo_PC_4', 'wo_PC_5', 'wo_PC_6', 'wo_PC_7', 'pressure_msl_PC_1', 'pressure_msl_PC_2', 'surface_pressure_PC_1', 'surface_pressure_PC_2', 'wind_gusts_10m_PC_1', 'wind_gusts_10m_PC_2', 'wind_gusts_10m_PC_3', 'wind_gusts_10m_PC_4', 'wind_gusts_10m_PC_5', 'wind_gusts_10m_PC_6', 'wind_gusts_10m_PC_7', 'wind_gusts_10m_PC_8', 'wind_gusts_10m_PC_9', 'wind_gusts_10m_PC_10', 'wind_gusts_10m_PC_11', 'wind_gusts_10m_PC_12', 'wind_gusts_10m_PC_13', 'wind_gusts_10m_PC_14', 'wind_gusts_10m_PC_15', 'wind_u_PC_1', 'wind_u_PC_2', 'wind_u_PC_3', 'wind_u_PC_4', 'wind_u_PC_5', 'wind_v_PC_1', 'wind_v_PC_2', 'wind_v_PC_3', 'wind_v_PC_4', 'wind_v_PC_5', 'wind_v_PC_6', 'wind_v_PC_7', 'wind_v_PC_8', 'y', 'unique_id']\n",
      "\n",
      "Prepared DataFrame for ML:\n",
      "                   ds  bottomT_PC_1  bottomT_PC_2  bottomT_PC_3  bottomT_PC_4  \\\n",
      "0 2022-12-03 00:00:00     -0.303945     -1.571631     -0.796631      0.568800   \n",
      "1 2022-12-03 01:00:00     -0.305888     -1.570625     -0.795225      0.571684   \n",
      "2 2022-12-03 02:00:00     -0.306904     -1.571336     -0.795739      0.570574   \n",
      "3 2022-12-03 03:00:00     -0.308250     -1.573073     -0.795607      0.568620   \n",
      "4 2022-12-03 04:00:00     -0.309479     -1.574358     -0.794477      0.567034   \n",
      "\n",
      "   sla_PC_1  sla_PC_2  sla_PC_3   so_PC_1   so_PC_2  ...  wind_v_PC_1  \\\n",
      "0 -1.005268 -0.822924  0.530070 -0.218220 -0.897083  ...    -0.910458   \n",
      "1 -1.002811 -0.833910  0.528256 -0.210618 -0.893305  ...    -0.891139   \n",
      "2 -1.006549 -0.904703  0.446098 -0.205510 -0.893562  ...    -0.854349   \n",
      "3 -1.015887 -1.027999  0.293744 -0.205313 -0.898010  ...    -0.807180   \n",
      "4 -1.026219 -1.160469  0.123971 -0.204544 -0.909398  ...    -0.740946   \n",
      "\n",
      "   wind_v_PC_2  wind_v_PC_3  wind_v_PC_4  wind_v_PC_5  wind_v_PC_6  \\\n",
      "0    -1.380508    -0.336356    -0.663772    -0.176910     1.683785   \n",
      "1    -1.419401    -0.342445    -0.626422    -0.157994     1.578949   \n",
      "2    -1.451191    -0.345683    -0.446534    -0.018121     1.552726   \n",
      "3    -1.425731    -0.376710    -0.361506     0.143657     1.486232   \n",
      "4    -1.414792    -0.440172    -0.340720     0.269567     1.562165   \n",
      "\n",
      "   wind_v_PC_7  wind_v_PC_8         y  unique_id  \n",
      "0     0.216442    -1.537871  0.487133  Flensburg  \n",
      "1    -0.004670    -1.594176  0.463563  Flensburg  \n",
      "2    -0.105363    -1.581817  0.373853  Flensburg  \n",
      "3    -0.122655    -1.909946  0.285051  Flensburg  \n",
      "4    -0.147440    -2.029732  0.238839  Flensburg  \n",
      "\n",
      "[5 rows x 99 columns]\n",
      "\n",
      "Data Info:\n",
      "<class 'pandas.core.frame.DataFrame'>\n",
      "RangeIndex: 20161 entries, 0 to 20160\n",
      "Data columns (total 99 columns):\n",
      " #   Column                 Non-Null Count  Dtype         \n",
      "---  ------                 --------------  -----         \n",
      " 0   ds                     20161 non-null  datetime64[ns]\n",
      " 1   bottomT_PC_1           20161 non-null  float32       \n",
      " 2   bottomT_PC_2           20161 non-null  float32       \n",
      " 3   bottomT_PC_3           20161 non-null  float32       \n",
      " 4   bottomT_PC_4           20161 non-null  float32       \n",
      " 5   sla_PC_1               20161 non-null  float32       \n",
      " 6   sla_PC_2               20161 non-null  float32       \n",
      " 7   sla_PC_3               20161 non-null  float32       \n",
      " 8   so_PC_1                20161 non-null  float32       \n",
      " 9   so_PC_2                20161 non-null  float32       \n",
      " 10  so_PC_3                20161 non-null  float32       \n",
      " 11  so_PC_4                20161 non-null  float32       \n",
      " 12  so_PC_5                20161 non-null  float32       \n",
      " 13  so_PC_6                20161 non-null  float32       \n",
      " 14  so_PC_7                20161 non-null  float32       \n",
      " 15  so_PC_8                20161 non-null  float32       \n",
      " 16  so_PC_9                20161 non-null  float32       \n",
      " 17  so_PC_10               20161 non-null  float32       \n",
      " 18  so_PC_11               20161 non-null  float32       \n",
      " 19  so_PC_12               20161 non-null  float32       \n",
      " 20  so_PC_13               20161 non-null  float32       \n",
      " 21  so_PC_14               20161 non-null  float32       \n",
      " 22  so_PC_15               20161 non-null  float32       \n",
      " 23  so_PC_16               20161 non-null  float32       \n",
      " 24  so_PC_17               20161 non-null  float32       \n",
      " 25  so_PC_18               20161 non-null  float32       \n",
      " 26  so_PC_19               20161 non-null  float32       \n",
      " 27  so_PC_20               20161 non-null  float32       \n",
      " 28  so_PC_21               20161 non-null  float32       \n",
      " 29  sob_PC_1               20161 non-null  float32       \n",
      " 30  sob_PC_2               20161 non-null  float32       \n",
      " 31  sob_PC_3               20161 non-null  float32       \n",
      " 32  sob_PC_4               20161 non-null  float32       \n",
      " 33  sob_PC_5               20161 non-null  float32       \n",
      " 34  sob_PC_6               20161 non-null  float32       \n",
      " 35  sob_PC_7               20161 non-null  float32       \n",
      " 36  sob_PC_8               20161 non-null  float32       \n",
      " 37  sob_PC_9               20161 non-null  float32       \n",
      " 38  sob_PC_10              20161 non-null  float32       \n",
      " 39  sob_PC_11              20161 non-null  float32       \n",
      " 40  sob_PC_12              20161 non-null  float32       \n",
      " 41  sob_PC_13              20161 non-null  float32       \n",
      " 42  sob_PC_14              20161 non-null  float32       \n",
      " 43  sob_PC_15              20161 non-null  float32       \n",
      " 44  sob_PC_16              20161 non-null  float32       \n",
      " 45  sob_PC_17              20161 non-null  float32       \n",
      " 46  sob_PC_18              20161 non-null  float32       \n",
      " 47  sob_PC_19              20161 non-null  float32       \n",
      " 48  sob_PC_20              20161 non-null  float32       \n",
      " 49  sob_PC_21              20161 non-null  float32       \n",
      " 50  sob_PC_22              20161 non-null  float32       \n",
      " 51  sob_PC_23              20161 non-null  float32       \n",
      " 52  sob_PC_24              20161 non-null  float32       \n",
      " 53  sob_PC_25              20161 non-null  float32       \n",
      " 54  sob_PC_26              20161 non-null  float32       \n",
      " 55  thetao_PC_1            20161 non-null  float32       \n",
      " 56  uo_PC_1                20161 non-null  float32       \n",
      " 57  vo_PC_1                20161 non-null  float32       \n",
      " 58  wo_PC_1                20161 non-null  float32       \n",
      " 59  wo_PC_2                20161 non-null  float32       \n",
      " 60  wo_PC_3                20161 non-null  float32       \n",
      " 61  wo_PC_4                20161 non-null  float32       \n",
      " 62  wo_PC_5                20161 non-null  float32       \n",
      " 63  wo_PC_6                20161 non-null  float32       \n",
      " 64  wo_PC_7                20161 non-null  float32       \n",
      " 65  pressure_msl_PC_1      20161 non-null  float32       \n",
      " 66  pressure_msl_PC_2      20161 non-null  float32       \n",
      " 67  surface_pressure_PC_1  20161 non-null  float32       \n",
      " 68  surface_pressure_PC_2  20161 non-null  float32       \n",
      " 69  wind_gusts_10m_PC_1    20161 non-null  float32       \n",
      " 70  wind_gusts_10m_PC_2    20161 non-null  float32       \n",
      " 71  wind_gusts_10m_PC_3    20161 non-null  float32       \n",
      " 72  wind_gusts_10m_PC_4    20161 non-null  float32       \n",
      " 73  wind_gusts_10m_PC_5    20161 non-null  float32       \n",
      " 74  wind_gusts_10m_PC_6    20161 non-null  float32       \n",
      " 75  wind_gusts_10m_PC_7    20161 non-null  float32       \n",
      " 76  wind_gusts_10m_PC_8    20161 non-null  float32       \n",
      " 77  wind_gusts_10m_PC_9    20161 non-null  float32       \n",
      " 78  wind_gusts_10m_PC_10   20161 non-null  float32       \n",
      " 79  wind_gusts_10m_PC_11   20161 non-null  float32       \n",
      " 80  wind_gusts_10m_PC_12   20161 non-null  float32       \n",
      " 81  wind_gusts_10m_PC_13   20161 non-null  float32       \n",
      " 82  wind_gusts_10m_PC_14   20161 non-null  float32       \n",
      " 83  wind_gusts_10m_PC_15   20161 non-null  float32       \n",
      " 84  wind_u_PC_1            20161 non-null  float32       \n",
      " 85  wind_u_PC_2            20161 non-null  float32       \n",
      " 86  wind_u_PC_3            20161 non-null  float32       \n",
      " 87  wind_u_PC_4            20161 non-null  float32       \n",
      " 88  wind_u_PC_5            20161 non-null  float32       \n",
      " 89  wind_v_PC_1            20161 non-null  float32       \n",
      " 90  wind_v_PC_2            20161 non-null  float32       \n",
      " 91  wind_v_PC_3            20161 non-null  float32       \n",
      " 92  wind_v_PC_4            20161 non-null  float32       \n",
      " 93  wind_v_PC_5            20161 non-null  float32       \n",
      " 94  wind_v_PC_6            20161 non-null  float32       \n",
      " 95  wind_v_PC_7            20161 non-null  float32       \n",
      " 96  wind_v_PC_8            20161 non-null  float32       \n",
      " 97  y                      20161 non-null  float32       \n",
      " 98  unique_id              20161 non-null  object        \n",
      "dtypes: datetime64[ns](1), float32(97), object(1)\n",
      "memory usage: 7.8+ MB\n",
      "None\n"
     ]
    }
   ],
   "source": [
    "df_loaded = load_data()"
   ]
  },
  {
   "cell_type": "code",
   "execution_count": 14,
   "id": "348ae9b9",
   "metadata": {},
   "outputs": [],
   "source": [
    "df = df_loaded.copy()"
   ]
  },
  {
   "cell_type": "code",
   "execution_count": 15,
   "id": "8ebefba6",
   "metadata": {},
   "outputs": [
    {
     "data": {
      "text/plain": [
       "(20161, 99)"
      ]
     },
     "execution_count": 15,
     "metadata": {},
     "output_type": "execute_result"
    }
   ],
   "source": [
    "df.shape"
   ]
  },
  {
   "cell_type": "code",
   "execution_count": 16,
   "id": "e217db0a",
   "metadata": {},
   "outputs": [
    {
     "data": {
      "text/html": [
       "<div>\n",
       "<style scoped>\n",
       "    .dataframe tbody tr th:only-of-type {\n",
       "        vertical-align: middle;\n",
       "    }\n",
       "\n",
       "    .dataframe tbody tr th {\n",
       "        vertical-align: top;\n",
       "    }\n",
       "\n",
       "    .dataframe thead th {\n",
       "        text-align: right;\n",
       "    }\n",
       "</style>\n",
       "<table border=\"1\" class=\"dataframe\">\n",
       "  <thead>\n",
       "    <tr style=\"text-align: right;\">\n",
       "      <th></th>\n",
       "      <th>ds</th>\n",
       "      <th>bottomT_PC_1</th>\n",
       "      <th>bottomT_PC_2</th>\n",
       "      <th>bottomT_PC_3</th>\n",
       "      <th>bottomT_PC_4</th>\n",
       "      <th>sla_PC_1</th>\n",
       "      <th>sla_PC_2</th>\n",
       "      <th>sla_PC_3</th>\n",
       "      <th>so_PC_1</th>\n",
       "      <th>so_PC_2</th>\n",
       "      <th>...</th>\n",
       "      <th>wind_v_PC_1</th>\n",
       "      <th>wind_v_PC_2</th>\n",
       "      <th>wind_v_PC_3</th>\n",
       "      <th>wind_v_PC_4</th>\n",
       "      <th>wind_v_PC_5</th>\n",
       "      <th>wind_v_PC_6</th>\n",
       "      <th>wind_v_PC_7</th>\n",
       "      <th>wind_v_PC_8</th>\n",
       "      <th>y</th>\n",
       "      <th>unique_id</th>\n",
       "    </tr>\n",
       "  </thead>\n",
       "  <tbody>\n",
       "    <tr>\n",
       "      <th>0</th>\n",
       "      <td>2022-12-03 00:00:00</td>\n",
       "      <td>-0.303945</td>\n",
       "      <td>-1.571631</td>\n",
       "      <td>-0.796631</td>\n",
       "      <td>0.568800</td>\n",
       "      <td>-1.005268</td>\n",
       "      <td>-0.822924</td>\n",
       "      <td>0.530070</td>\n",
       "      <td>-0.218220</td>\n",
       "      <td>-0.897083</td>\n",
       "      <td>...</td>\n",
       "      <td>-0.910458</td>\n",
       "      <td>-1.380508</td>\n",
       "      <td>-0.336356</td>\n",
       "      <td>-0.663772</td>\n",
       "      <td>-0.176910</td>\n",
       "      <td>1.683785</td>\n",
       "      <td>0.216442</td>\n",
       "      <td>-1.537871</td>\n",
       "      <td>0.487133</td>\n",
       "      <td>Flensburg</td>\n",
       "    </tr>\n",
       "    <tr>\n",
       "      <th>1</th>\n",
       "      <td>2022-12-03 01:00:00</td>\n",
       "      <td>-0.305888</td>\n",
       "      <td>-1.570625</td>\n",
       "      <td>-0.795225</td>\n",
       "      <td>0.571684</td>\n",
       "      <td>-1.002811</td>\n",
       "      <td>-0.833910</td>\n",
       "      <td>0.528256</td>\n",
       "      <td>-0.210618</td>\n",
       "      <td>-0.893305</td>\n",
       "      <td>...</td>\n",
       "      <td>-0.891139</td>\n",
       "      <td>-1.419401</td>\n",
       "      <td>-0.342445</td>\n",
       "      <td>-0.626422</td>\n",
       "      <td>-0.157994</td>\n",
       "      <td>1.578949</td>\n",
       "      <td>-0.004670</td>\n",
       "      <td>-1.594176</td>\n",
       "      <td>0.463563</td>\n",
       "      <td>Flensburg</td>\n",
       "    </tr>\n",
       "    <tr>\n",
       "      <th>2</th>\n",
       "      <td>2022-12-03 02:00:00</td>\n",
       "      <td>-0.306904</td>\n",
       "      <td>-1.571336</td>\n",
       "      <td>-0.795739</td>\n",
       "      <td>0.570574</td>\n",
       "      <td>-1.006549</td>\n",
       "      <td>-0.904703</td>\n",
       "      <td>0.446098</td>\n",
       "      <td>-0.205510</td>\n",
       "      <td>-0.893562</td>\n",
       "      <td>...</td>\n",
       "      <td>-0.854349</td>\n",
       "      <td>-1.451191</td>\n",
       "      <td>-0.345683</td>\n",
       "      <td>-0.446534</td>\n",
       "      <td>-0.018121</td>\n",
       "      <td>1.552726</td>\n",
       "      <td>-0.105363</td>\n",
       "      <td>-1.581817</td>\n",
       "      <td>0.373853</td>\n",
       "      <td>Flensburg</td>\n",
       "    </tr>\n",
       "    <tr>\n",
       "      <th>3</th>\n",
       "      <td>2022-12-03 03:00:00</td>\n",
       "      <td>-0.308250</td>\n",
       "      <td>-1.573073</td>\n",
       "      <td>-0.795607</td>\n",
       "      <td>0.568620</td>\n",
       "      <td>-1.015887</td>\n",
       "      <td>-1.027999</td>\n",
       "      <td>0.293744</td>\n",
       "      <td>-0.205313</td>\n",
       "      <td>-0.898010</td>\n",
       "      <td>...</td>\n",
       "      <td>-0.807180</td>\n",
       "      <td>-1.425731</td>\n",
       "      <td>-0.376710</td>\n",
       "      <td>-0.361506</td>\n",
       "      <td>0.143657</td>\n",
       "      <td>1.486232</td>\n",
       "      <td>-0.122655</td>\n",
       "      <td>-1.909946</td>\n",
       "      <td>0.285051</td>\n",
       "      <td>Flensburg</td>\n",
       "    </tr>\n",
       "    <tr>\n",
       "      <th>4</th>\n",
       "      <td>2022-12-03 04:00:00</td>\n",
       "      <td>-0.309479</td>\n",
       "      <td>-1.574358</td>\n",
       "      <td>-0.794477</td>\n",
       "      <td>0.567034</td>\n",
       "      <td>-1.026219</td>\n",
       "      <td>-1.160469</td>\n",
       "      <td>0.123971</td>\n",
       "      <td>-0.204544</td>\n",
       "      <td>-0.909398</td>\n",
       "      <td>...</td>\n",
       "      <td>-0.740946</td>\n",
       "      <td>-1.414792</td>\n",
       "      <td>-0.440172</td>\n",
       "      <td>-0.340720</td>\n",
       "      <td>0.269567</td>\n",
       "      <td>1.562165</td>\n",
       "      <td>-0.147440</td>\n",
       "      <td>-2.029732</td>\n",
       "      <td>0.238839</td>\n",
       "      <td>Flensburg</td>\n",
       "    </tr>\n",
       "  </tbody>\n",
       "</table>\n",
       "<p>5 rows × 99 columns</p>\n",
       "</div>"
      ],
      "text/plain": [
       "                   ds  bottomT_PC_1  bottomT_PC_2  bottomT_PC_3  bottomT_PC_4  \\\n",
       "0 2022-12-03 00:00:00     -0.303945     -1.571631     -0.796631      0.568800   \n",
       "1 2022-12-03 01:00:00     -0.305888     -1.570625     -0.795225      0.571684   \n",
       "2 2022-12-03 02:00:00     -0.306904     -1.571336     -0.795739      0.570574   \n",
       "3 2022-12-03 03:00:00     -0.308250     -1.573073     -0.795607      0.568620   \n",
       "4 2022-12-03 04:00:00     -0.309479     -1.574358     -0.794477      0.567034   \n",
       "\n",
       "   sla_PC_1  sla_PC_2  sla_PC_3   so_PC_1   so_PC_2  ...  wind_v_PC_1  \\\n",
       "0 -1.005268 -0.822924  0.530070 -0.218220 -0.897083  ...    -0.910458   \n",
       "1 -1.002811 -0.833910  0.528256 -0.210618 -0.893305  ...    -0.891139   \n",
       "2 -1.006549 -0.904703  0.446098 -0.205510 -0.893562  ...    -0.854349   \n",
       "3 -1.015887 -1.027999  0.293744 -0.205313 -0.898010  ...    -0.807180   \n",
       "4 -1.026219 -1.160469  0.123971 -0.204544 -0.909398  ...    -0.740946   \n",
       "\n",
       "   wind_v_PC_2  wind_v_PC_3  wind_v_PC_4  wind_v_PC_5  wind_v_PC_6  \\\n",
       "0    -1.380508    -0.336356    -0.663772    -0.176910     1.683785   \n",
       "1    -1.419401    -0.342445    -0.626422    -0.157994     1.578949   \n",
       "2    -1.451191    -0.345683    -0.446534    -0.018121     1.552726   \n",
       "3    -1.425731    -0.376710    -0.361506     0.143657     1.486232   \n",
       "4    -1.414792    -0.440172    -0.340720     0.269567     1.562165   \n",
       "\n",
       "   wind_v_PC_7  wind_v_PC_8         y  unique_id  \n",
       "0     0.216442    -1.537871  0.487133  Flensburg  \n",
       "1    -0.004670    -1.594176  0.463563  Flensburg  \n",
       "2    -0.105363    -1.581817  0.373853  Flensburg  \n",
       "3    -0.122655    -1.909946  0.285051  Flensburg  \n",
       "4    -0.147440    -2.029732  0.238839  Flensburg  \n",
       "\n",
       "[5 rows x 99 columns]"
      ]
     },
     "execution_count": 16,
     "metadata": {},
     "output_type": "execute_result"
    }
   ],
   "source": [
    "df.head()"
   ]
  },
  {
   "cell_type": "code",
   "execution_count": 17,
   "id": "a2c2e1dd",
   "metadata": {},
   "outputs": [],
   "source": [
    "df.drop(columns=[\"unique_id\"], inplace=True)"
   ]
  },
  {
   "cell_type": "code",
   "execution_count": 18,
   "id": "73e6c1ac",
   "metadata": {},
   "outputs": [],
   "source": [
    "# Calculating lagged features for all the columns which are numerical\n",
    "for col in df.select_dtypes(include=[np.number]).columns:\n",
    "    for lag in range(1, 7):\n",
    "        df[f\"{col}_lag_{lag}\"] = df[col].shift(lag)\n",
    "\n",
    "        #df[f'{col}_future_{lag}'] = df[col].shift(-lag)\n",
    "\n",
    "df.dropna(inplace=True)"
   ]
  },
  {
   "cell_type": "code",
   "execution_count": 19,
   "id": "b99f01a0",
   "metadata": {},
   "outputs": [
    {
     "data": {
      "text/html": [
       "<div>\n",
       "<style scoped>\n",
       "    .dataframe tbody tr th:only-of-type {\n",
       "        vertical-align: middle;\n",
       "    }\n",
       "\n",
       "    .dataframe tbody tr th {\n",
       "        vertical-align: top;\n",
       "    }\n",
       "\n",
       "    .dataframe thead th {\n",
       "        text-align: right;\n",
       "    }\n",
       "</style>\n",
       "<table border=\"1\" class=\"dataframe\">\n",
       "  <thead>\n",
       "    <tr style=\"text-align: right;\">\n",
       "      <th></th>\n",
       "      <th>ds</th>\n",
       "      <th>bottomT_PC_1</th>\n",
       "      <th>bottomT_PC_2</th>\n",
       "      <th>bottomT_PC_3</th>\n",
       "      <th>bottomT_PC_4</th>\n",
       "      <th>sla_PC_1</th>\n",
       "      <th>sla_PC_2</th>\n",
       "      <th>sla_PC_3</th>\n",
       "      <th>so_PC_1</th>\n",
       "      <th>so_PC_2</th>\n",
       "      <th>...</th>\n",
       "      <th>wind_v_PC_8_lag_3</th>\n",
       "      <th>wind_v_PC_8_lag_4</th>\n",
       "      <th>wind_v_PC_8_lag_5</th>\n",
       "      <th>wind_v_PC_8_lag_6</th>\n",
       "      <th>y_lag_1</th>\n",
       "      <th>y_lag_2</th>\n",
       "      <th>y_lag_3</th>\n",
       "      <th>y_lag_4</th>\n",
       "      <th>y_lag_5</th>\n",
       "      <th>y_lag_6</th>\n",
       "    </tr>\n",
       "  </thead>\n",
       "  <tbody>\n",
       "    <tr>\n",
       "      <th>6</th>\n",
       "      <td>2022-12-03 06:00:00</td>\n",
       "      <td>-0.312929</td>\n",
       "      <td>-1.577621</td>\n",
       "      <td>-0.789427</td>\n",
       "      <td>0.565287</td>\n",
       "      <td>-1.046446</td>\n",
       "      <td>-1.316206</td>\n",
       "      <td>-0.095753</td>\n",
       "      <td>-0.192486</td>\n",
       "      <td>-0.961201</td>\n",
       "      <td>...</td>\n",
       "      <td>-1.909946</td>\n",
       "      <td>-1.581817</td>\n",
       "      <td>-1.594176</td>\n",
       "      <td>-1.537871</td>\n",
       "      <td>0.190879</td>\n",
       "      <td>0.238839</td>\n",
       "      <td>0.285051</td>\n",
       "      <td>0.373853</td>\n",
       "      <td>0.463563</td>\n",
       "      <td>0.487133</td>\n",
       "    </tr>\n",
       "    <tr>\n",
       "      <th>7</th>\n",
       "      <td>2022-12-03 07:00:00</td>\n",
       "      <td>-0.315194</td>\n",
       "      <td>-1.578574</td>\n",
       "      <td>-0.785857</td>\n",
       "      <td>0.566916</td>\n",
       "      <td>-1.046160</td>\n",
       "      <td>-1.291914</td>\n",
       "      <td>-0.069276</td>\n",
       "      <td>-0.184501</td>\n",
       "      <td>-0.989670</td>\n",
       "      <td>...</td>\n",
       "      <td>-2.029732</td>\n",
       "      <td>-1.909946</td>\n",
       "      <td>-1.581817</td>\n",
       "      <td>-1.594176</td>\n",
       "      <td>0.123832</td>\n",
       "      <td>0.190879</td>\n",
       "      <td>0.238839</td>\n",
       "      <td>0.285051</td>\n",
       "      <td>0.373853</td>\n",
       "      <td>0.463563</td>\n",
       "    </tr>\n",
       "    <tr>\n",
       "      <th>8</th>\n",
       "      <td>2022-12-03 08:00:00</td>\n",
       "      <td>-0.317464</td>\n",
       "      <td>-1.579160</td>\n",
       "      <td>-0.783296</td>\n",
       "      <td>0.569445</td>\n",
       "      <td>-1.041916</td>\n",
       "      <td>-1.206734</td>\n",
       "      <td>0.043078</td>\n",
       "      <td>-0.177240</td>\n",
       "      <td>-1.006346</td>\n",
       "      <td>...</td>\n",
       "      <td>-1.917860</td>\n",
       "      <td>-2.029732</td>\n",
       "      <td>-1.909946</td>\n",
       "      <td>-1.581817</td>\n",
       "      <td>0.114784</td>\n",
       "      <td>0.123832</td>\n",
       "      <td>0.190879</td>\n",
       "      <td>0.238839</td>\n",
       "      <td>0.285051</td>\n",
       "      <td>0.373853</td>\n",
       "    </tr>\n",
       "    <tr>\n",
       "      <th>9</th>\n",
       "      <td>2022-12-03 09:00:00</td>\n",
       "      <td>-0.319518</td>\n",
       "      <td>-1.579340</td>\n",
       "      <td>-0.781233</td>\n",
       "      <td>0.572660</td>\n",
       "      <td>-1.033751</td>\n",
       "      <td>-1.081472</td>\n",
       "      <td>0.210686</td>\n",
       "      <td>-0.170365</td>\n",
       "      <td>-1.011441</td>\n",
       "      <td>...</td>\n",
       "      <td>-1.804758</td>\n",
       "      <td>-1.917860</td>\n",
       "      <td>-2.029732</td>\n",
       "      <td>-1.909946</td>\n",
       "      <td>0.143285</td>\n",
       "      <td>0.114784</td>\n",
       "      <td>0.123832</td>\n",
       "      <td>0.190879</td>\n",
       "      <td>0.238839</td>\n",
       "      <td>0.285051</td>\n",
       "    </tr>\n",
       "    <tr>\n",
       "      <th>10</th>\n",
       "      <td>2022-12-03 10:00:00</td>\n",
       "      <td>-0.320767</td>\n",
       "      <td>-1.578249</td>\n",
       "      <td>-0.779827</td>\n",
       "      <td>0.576759</td>\n",
       "      <td>-1.028013</td>\n",
       "      <td>-0.951460</td>\n",
       "      <td>0.384692</td>\n",
       "      <td>-0.164178</td>\n",
       "      <td>-1.005075</td>\n",
       "      <td>...</td>\n",
       "      <td>-1.722601</td>\n",
       "      <td>-1.804758</td>\n",
       "      <td>-1.917860</td>\n",
       "      <td>-2.029732</td>\n",
       "      <td>0.229517</td>\n",
       "      <td>0.143285</td>\n",
       "      <td>0.114784</td>\n",
       "      <td>0.123832</td>\n",
       "      <td>0.190879</td>\n",
       "      <td>0.238839</td>\n",
       "    </tr>\n",
       "  </tbody>\n",
       "</table>\n",
       "<p>5 rows × 680 columns</p>\n",
       "</div>"
      ],
      "text/plain": [
       "                    ds  bottomT_PC_1  bottomT_PC_2  bottomT_PC_3  \\\n",
       "6  2022-12-03 06:00:00     -0.312929     -1.577621     -0.789427   \n",
       "7  2022-12-03 07:00:00     -0.315194     -1.578574     -0.785857   \n",
       "8  2022-12-03 08:00:00     -0.317464     -1.579160     -0.783296   \n",
       "9  2022-12-03 09:00:00     -0.319518     -1.579340     -0.781233   \n",
       "10 2022-12-03 10:00:00     -0.320767     -1.578249     -0.779827   \n",
       "\n",
       "    bottomT_PC_4  sla_PC_1  sla_PC_2  sla_PC_3   so_PC_1   so_PC_2  ...  \\\n",
       "6       0.565287 -1.046446 -1.316206 -0.095753 -0.192486 -0.961201  ...   \n",
       "7       0.566916 -1.046160 -1.291914 -0.069276 -0.184501 -0.989670  ...   \n",
       "8       0.569445 -1.041916 -1.206734  0.043078 -0.177240 -1.006346  ...   \n",
       "9       0.572660 -1.033751 -1.081472  0.210686 -0.170365 -1.011441  ...   \n",
       "10      0.576759 -1.028013 -0.951460  0.384692 -0.164178 -1.005075  ...   \n",
       "\n",
       "    wind_v_PC_8_lag_3  wind_v_PC_8_lag_4  wind_v_PC_8_lag_5  \\\n",
       "6           -1.909946          -1.581817          -1.594176   \n",
       "7           -2.029732          -1.909946          -1.581817   \n",
       "8           -1.917860          -2.029732          -1.909946   \n",
       "9           -1.804758          -1.917860          -2.029732   \n",
       "10          -1.722601          -1.804758          -1.917860   \n",
       "\n",
       "    wind_v_PC_8_lag_6   y_lag_1   y_lag_2   y_lag_3   y_lag_4   y_lag_5  \\\n",
       "6           -1.537871  0.190879  0.238839  0.285051  0.373853  0.463563   \n",
       "7           -1.594176  0.123832  0.190879  0.238839  0.285051  0.373853   \n",
       "8           -1.581817  0.114784  0.123832  0.190879  0.238839  0.285051   \n",
       "9           -1.909946  0.143285  0.114784  0.123832  0.190879  0.238839   \n",
       "10          -2.029732  0.229517  0.143285  0.114784  0.123832  0.190879   \n",
       "\n",
       "     y_lag_6  \n",
       "6   0.487133  \n",
       "7   0.463563  \n",
       "8   0.373853  \n",
       "9   0.285051  \n",
       "10  0.238839  \n",
       "\n",
       "[5 rows x 680 columns]"
      ]
     },
     "execution_count": 19,
     "metadata": {},
     "output_type": "execute_result"
    }
   ],
   "source": [
    "df.head()"
   ]
  },
  {
   "cell_type": "code",
   "execution_count": 20,
   "id": "773e7f40",
   "metadata": {},
   "outputs": [],
   "source": [
    "# get the data from 21.10.2023 und zwei wochen vorher und danach\n",
    "time_delta = pd.Timedelta(days=48) # 2 weeks\n",
    "surge_date = pd.Timestamp(\"2023-10-21\")\n",
    "start_date = surge_date - time_delta\n",
    "end_date = surge_date + time_delta"
   ]
  },
  {
   "cell_type": "code",
   "execution_count": 21,
   "id": "9398572c",
   "metadata": {},
   "outputs": [
    {
     "data": {
      "text/plain": [
       "<Axes: title={'center': 'Surge Data'}, xlabel='ds'>"
      ]
     },
     "execution_count": 21,
     "metadata": {},
     "output_type": "execute_result"
    },
    {
     "data": {
      "image/png": "[encoded data removed]",
      "text/plain": [
       "<Figure size 1000x200 with 1 Axes>"
      ]
     },
     "metadata": {},
     "output_type": "display_data"
    }
   ],
   "source": [
    "df_surge = df.loc[df.ds > start_date][df.ds < end_date].copy()\n",
    "df_surge.plot(x=\"ds\", y=\"y\", kind=\"line\", figsize=(10, 2), title=\"Surge Data\")"
   ]
  },
  {
   "cell_type": "code",
   "execution_count": 22,
   "id": "4feacc97",
   "metadata": {},
   "outputs": [
    {
     "data": {
      "text/plain": [
       "<Axes: title={'center': 'Surge Data with NaN'}, xlabel='ds'>"
      ]
     },
     "execution_count": 22,
     "metadata": {},
     "output_type": "execute_result"
    },
    {
     "data": {
      "image/png": "[encoded data removed]",
      "text/plain": [
       "<Figure size 1000x200 with 1 Axes>"
      ]
     },
     "metadata": {},
     "output_type": "display_data"
    }
   ],
   "source": [
    "# make NaN values in range of start_date and end_date for all columns except 'ds'\n",
    "df.loc[(df.ds > start_date) & (df.ds < end_date), df.columns != 'ds'] = np.nan\n",
    "\n",
    "df.plot(x='ds', y=\"y\", kind=\"line\", figsize=(10, 2), title=\"Surge Data with NaN\")\n",
    "\n"
   ]
  },
  {
   "cell_type": "code",
   "execution_count": 23,
   "id": "7cb05fb3",
   "metadata": {},
   "outputs": [],
   "source": [
    "df_train = df.loc[df.ds < '2025-01-01'].copy()\n",
    "df_val = df.loc[df.ds >= '2025-01-01'].copy()"
   ]
  },
  {
   "cell_type": "code",
   "execution_count": 24,
   "id": "b26a9bc7",
   "metadata": {},
   "outputs": [
    {
     "data": {
      "text/html": [
       "<div>\n",
       "<style scoped>\n",
       "    .dataframe tbody tr th:only-of-type {\n",
       "        vertical-align: middle;\n",
       "    }\n",
       "\n",
       "    .dataframe tbody tr th {\n",
       "        vertical-align: top;\n",
       "    }\n",
       "\n",
       "    .dataframe thead th {\n",
       "        text-align: right;\n",
       "    }\n",
       "</style>\n",
       "<table border=\"1\" class=\"dataframe\">\n",
       "  <thead>\n",
       "    <tr style=\"text-align: right;\">\n",
       "      <th></th>\n",
       "      <th>ds</th>\n",
       "      <th>bottomT_PC_1</th>\n",
       "      <th>bottomT_PC_2</th>\n",
       "      <th>bottomT_PC_3</th>\n",
       "      <th>bottomT_PC_4</th>\n",
       "      <th>sla_PC_1</th>\n",
       "      <th>sla_PC_2</th>\n",
       "      <th>sla_PC_3</th>\n",
       "      <th>so_PC_1</th>\n",
       "      <th>so_PC_2</th>\n",
       "      <th>...</th>\n",
       "      <th>wind_v_PC_8_lag_3</th>\n",
       "      <th>wind_v_PC_8_lag_4</th>\n",
       "      <th>wind_v_PC_8_lag_5</th>\n",
       "      <th>wind_v_PC_8_lag_6</th>\n",
       "      <th>y_lag_1</th>\n",
       "      <th>y_lag_2</th>\n",
       "      <th>y_lag_3</th>\n",
       "      <th>y_lag_4</th>\n",
       "      <th>y_lag_5</th>\n",
       "      <th>y_lag_6</th>\n",
       "    </tr>\n",
       "  </thead>\n",
       "  <tbody>\n",
       "    <tr>\n",
       "      <th>6</th>\n",
       "      <td>2022-12-03 06:00:00</td>\n",
       "      <td>-0.312929</td>\n",
       "      <td>-1.577621</td>\n",
       "      <td>-0.789427</td>\n",
       "      <td>0.565287</td>\n",
       "      <td>-1.046446</td>\n",
       "      <td>-1.316206</td>\n",
       "      <td>-0.095753</td>\n",
       "      <td>-0.192486</td>\n",
       "      <td>-0.961201</td>\n",
       "      <td>...</td>\n",
       "      <td>-1.909946</td>\n",
       "      <td>-1.581817</td>\n",
       "      <td>-1.594176</td>\n",
       "      <td>-1.537871</td>\n",
       "      <td>0.190879</td>\n",
       "      <td>0.238839</td>\n",
       "      <td>0.285051</td>\n",
       "      <td>0.373853</td>\n",
       "      <td>0.463563</td>\n",
       "      <td>0.487133</td>\n",
       "    </tr>\n",
       "    <tr>\n",
       "      <th>7</th>\n",
       "      <td>2022-12-03 07:00:00</td>\n",
       "      <td>-0.315194</td>\n",
       "      <td>-1.578574</td>\n",
       "      <td>-0.785857</td>\n",
       "      <td>0.566916</td>\n",
       "      <td>-1.046160</td>\n",
       "      <td>-1.291914</td>\n",
       "      <td>-0.069276</td>\n",
       "      <td>-0.184501</td>\n",
       "      <td>-0.989670</td>\n",
       "      <td>...</td>\n",
       "      <td>-2.029732</td>\n",
       "      <td>-1.909946</td>\n",
       "      <td>-1.581817</td>\n",
       "      <td>-1.594176</td>\n",
       "      <td>0.123832</td>\n",
       "      <td>0.190879</td>\n",
       "      <td>0.238839</td>\n",
       "      <td>0.285051</td>\n",
       "      <td>0.373853</td>\n",
       "      <td>0.463563</td>\n",
       "    </tr>\n",
       "    <tr>\n",
       "      <th>8</th>\n",
       "      <td>2022-12-03 08:00:00</td>\n",
       "      <td>-0.317464</td>\n",
       "      <td>-1.579160</td>\n",
       "      <td>-0.783296</td>\n",
       "      <td>0.569445</td>\n",
       "      <td>-1.041916</td>\n",
       "      <td>-1.206734</td>\n",
       "      <td>0.043078</td>\n",
       "      <td>-0.177240</td>\n",
       "      <td>-1.006346</td>\n",
       "      <td>...</td>\n",
       "      <td>-1.917860</td>\n",
       "      <td>-2.029732</td>\n",
       "      <td>-1.909946</td>\n",
       "      <td>-1.581817</td>\n",
       "      <td>0.114784</td>\n",
       "      <td>0.123832</td>\n",
       "      <td>0.190879</td>\n",
       "      <td>0.238839</td>\n",
       "      <td>0.285051</td>\n",
       "      <td>0.373853</td>\n",
       "    </tr>\n",
       "    <tr>\n",
       "      <th>9</th>\n",
       "      <td>2022-12-03 09:00:00</td>\n",
       "      <td>-0.319518</td>\n",
       "      <td>-1.579340</td>\n",
       "      <td>-0.781233</td>\n",
       "      <td>0.572660</td>\n",
       "      <td>-1.033751</td>\n",
       "      <td>-1.081472</td>\n",
       "      <td>0.210686</td>\n",
       "      <td>-0.170365</td>\n",
       "      <td>-1.011441</td>\n",
       "      <td>...</td>\n",
       "      <td>-1.804758</td>\n",
       "      <td>-1.917860</td>\n",
       "      <td>-2.029732</td>\n",
       "      <td>-1.909946</td>\n",
       "      <td>0.143285</td>\n",
       "      <td>0.114784</td>\n",
       "      <td>0.123832</td>\n",
       "      <td>0.190879</td>\n",
       "      <td>0.238839</td>\n",
       "      <td>0.285051</td>\n",
       "    </tr>\n",
       "    <tr>\n",
       "      <th>10</th>\n",
       "      <td>2022-12-03 10:00:00</td>\n",
       "      <td>-0.320767</td>\n",
       "      <td>-1.578249</td>\n",
       "      <td>-0.779827</td>\n",
       "      <td>0.576759</td>\n",
       "      <td>-1.028013</td>\n",
       "      <td>-0.951460</td>\n",
       "      <td>0.384692</td>\n",
       "      <td>-0.164178</td>\n",
       "      <td>-1.005075</td>\n",
       "      <td>...</td>\n",
       "      <td>-1.722601</td>\n",
       "      <td>-1.804758</td>\n",
       "      <td>-1.917860</td>\n",
       "      <td>-2.029732</td>\n",
       "      <td>0.229517</td>\n",
       "      <td>0.143285</td>\n",
       "      <td>0.114784</td>\n",
       "      <td>0.123832</td>\n",
       "      <td>0.190879</td>\n",
       "      <td>0.238839</td>\n",
       "    </tr>\n",
       "    <tr>\n",
       "      <th>...</th>\n",
       "      <td>...</td>\n",
       "      <td>...</td>\n",
       "      <td>...</td>\n",
       "      <td>...</td>\n",
       "      <td>...</td>\n",
       "      <td>...</td>\n",
       "      <td>...</td>\n",
       "      <td>...</td>\n",
       "      <td>...</td>\n",
       "      <td>...</td>\n",
       "      <td>...</td>\n",
       "      <td>...</td>\n",
       "      <td>...</td>\n",
       "      <td>...</td>\n",
       "      <td>...</td>\n",
       "      <td>...</td>\n",
       "      <td>...</td>\n",
       "      <td>...</td>\n",
       "      <td>...</td>\n",
       "      <td>...</td>\n",
       "      <td>...</td>\n",
       "    </tr>\n",
       "    <tr>\n",
       "      <th>18235</th>\n",
       "      <td>2024-12-31 19:00:00</td>\n",
       "      <td>-0.584131</td>\n",
       "      <td>-0.614013</td>\n",
       "      <td>-0.269621</td>\n",
       "      <td>0.283882</td>\n",
       "      <td>1.457615</td>\n",
       "      <td>1.305080</td>\n",
       "      <td>-0.568677</td>\n",
       "      <td>1.257056</td>\n",
       "      <td>0.600762</td>\n",
       "      <td>...</td>\n",
       "      <td>0.818313</td>\n",
       "      <td>0.727700</td>\n",
       "      <td>0.394720</td>\n",
       "      <td>-0.107754</td>\n",
       "      <td>0.065000</td>\n",
       "      <td>0.168333</td>\n",
       "      <td>0.205000</td>\n",
       "      <td>0.241667</td>\n",
       "      <td>0.206667</td>\n",
       "      <td>0.103333</td>\n",
       "    </tr>\n",
       "    <tr>\n",
       "      <th>18236</th>\n",
       "      <td>2024-12-31 20:00:00</td>\n",
       "      <td>-0.587652</td>\n",
       "      <td>-0.613196</td>\n",
       "      <td>-0.263441</td>\n",
       "      <td>0.285923</td>\n",
       "      <td>1.479896</td>\n",
       "      <td>1.303972</td>\n",
       "      <td>-1.022421</td>\n",
       "      <td>1.293841</td>\n",
       "      <td>0.604203</td>\n",
       "      <td>...</td>\n",
       "      <td>1.022324</td>\n",
       "      <td>0.818313</td>\n",
       "      <td>0.727700</td>\n",
       "      <td>0.394720</td>\n",
       "      <td>-0.110000</td>\n",
       "      <td>0.065000</td>\n",
       "      <td>0.168333</td>\n",
       "      <td>0.205000</td>\n",
       "      <td>0.241667</td>\n",
       "      <td>0.206667</td>\n",
       "    </tr>\n",
       "    <tr>\n",
       "      <th>18237</th>\n",
       "      <td>2024-12-31 21:00:00</td>\n",
       "      <td>-0.589287</td>\n",
       "      <td>-0.612524</td>\n",
       "      <td>-0.259115</td>\n",
       "      <td>0.286310</td>\n",
       "      <td>1.492575</td>\n",
       "      <td>1.319430</td>\n",
       "      <td>-1.482426</td>\n",
       "      <td>1.324701</td>\n",
       "      <td>0.598391</td>\n",
       "      <td>...</td>\n",
       "      <td>1.635409</td>\n",
       "      <td>1.022324</td>\n",
       "      <td>0.818313</td>\n",
       "      <td>0.727700</td>\n",
       "      <td>-0.265000</td>\n",
       "      <td>-0.110000</td>\n",
       "      <td>0.065000</td>\n",
       "      <td>0.168333</td>\n",
       "      <td>0.205000</td>\n",
       "      <td>0.241667</td>\n",
       "    </tr>\n",
       "    <tr>\n",
       "      <th>18238</th>\n",
       "      <td>2024-12-31 22:00:00</td>\n",
       "      <td>-0.590708</td>\n",
       "      <td>-0.611164</td>\n",
       "      <td>-0.255194</td>\n",
       "      <td>0.285727</td>\n",
       "      <td>1.496793</td>\n",
       "      <td>1.409592</td>\n",
       "      <td>-1.872253</td>\n",
       "      <td>1.346701</td>\n",
       "      <td>0.590851</td>\n",
       "      <td>...</td>\n",
       "      <td>1.434405</td>\n",
       "      <td>1.635409</td>\n",
       "      <td>1.022324</td>\n",
       "      <td>0.818313</td>\n",
       "      <td>-0.316667</td>\n",
       "      <td>-0.265000</td>\n",
       "      <td>-0.110000</td>\n",
       "      <td>0.065000</td>\n",
       "      <td>0.168333</td>\n",
       "      <td>0.205000</td>\n",
       "    </tr>\n",
       "    <tr>\n",
       "      <th>18239</th>\n",
       "      <td>2024-12-31 23:00:00</td>\n",
       "      <td>-0.592520</td>\n",
       "      <td>-0.609320</td>\n",
       "      <td>-0.251602</td>\n",
       "      <td>0.285523</td>\n",
       "      <td>1.501907</td>\n",
       "      <td>1.631908</td>\n",
       "      <td>-2.139866</td>\n",
       "      <td>1.358187</td>\n",
       "      <td>0.584597</td>\n",
       "      <td>...</td>\n",
       "      <td>1.608027</td>\n",
       "      <td>1.434405</td>\n",
       "      <td>1.635409</td>\n",
       "      <td>1.022324</td>\n",
       "      <td>-0.393333</td>\n",
       "      <td>-0.316667</td>\n",
       "      <td>-0.265000</td>\n",
       "      <td>-0.110000</td>\n",
       "      <td>0.065000</td>\n",
       "      <td>0.168333</td>\n",
       "    </tr>\n",
       "  </tbody>\n",
       "</table>\n",
       "<p>18234 rows × 680 columns</p>\n",
       "</div>"
      ],
      "text/plain": [
       "                       ds  bottomT_PC_1  bottomT_PC_2  bottomT_PC_3  \\\n",
       "6     2022-12-03 06:00:00     -0.312929     -1.577621     -0.789427   \n",
       "7     2022-12-03 07:00:00     -0.315194     -1.578574     -0.785857   \n",
       "8     2022-12-03 08:00:00     -0.317464     -1.579160     -0.783296   \n",
       "9     2022-12-03 09:00:00     -0.319518     -1.579340     -0.781233   \n",
       "10    2022-12-03 10:00:00     -0.320767     -1.578249     -0.779827   \n",
       "...                   ...           ...           ...           ...   \n",
       "18235 2024-12-31 19:00:00     -0.584131     -0.614013     -0.269621   \n",
       "18236 2024-12-31 20:00:00     -0.587652     -0.613196     -0.263441   \n",
       "18237 2024-12-31 21:00:00     -0.589287     -0.612524     -0.259115   \n",
       "18238 2024-12-31 22:00:00     -0.590708     -0.611164     -0.255194   \n",
       "18239 2024-12-31 23:00:00     -0.592520     -0.609320     -0.251602   \n",
       "\n",
       "       bottomT_PC_4  sla_PC_1  sla_PC_2  sla_PC_3   so_PC_1   so_PC_2  ...  \\\n",
       "6          0.565287 -1.046446 -1.316206 -0.095753 -0.192486 -0.961201  ...   \n",
       "7          0.566916 -1.046160 -1.291914 -0.069276 -0.184501 -0.989670  ...   \n",
       "8          0.569445 -1.041916 -1.206734  0.043078 -0.177240 -1.006346  ...   \n",
       "9          0.572660 -1.033751 -1.081472  0.210686 -0.170365 -1.011441  ...   \n",
       "10         0.576759 -1.028013 -0.951460  0.384692 -0.164178 -1.005075  ...   \n",
       "...             ...       ...       ...       ...       ...       ...  ...   \n",
       "18235      0.283882  1.457615  1.305080 -0.568677  1.257056  0.600762  ...   \n",
       "18236      0.285923  1.479896  1.303972 -1.022421  1.293841  0.604203  ...   \n",
       "18237      0.286310  1.492575  1.319430 -1.482426  1.324701  0.598391  ...   \n",
       "18238      0.285727  1.496793  1.409592 -1.872253  1.346701  0.590851  ...   \n",
       "18239      0.285523  1.501907  1.631908 -2.139866  1.358187  0.584597  ...   \n",
       "\n",
       "       wind_v_PC_8_lag_3  wind_v_PC_8_lag_4  wind_v_PC_8_lag_5  \\\n",
       "6              -1.909946          -1.581817          -1.594176   \n",
       "7              -2.029732          -1.909946          -1.581817   \n",
       "8              -1.917860          -2.029732          -1.909946   \n",
       "9              -1.804758          -1.917860          -2.029732   \n",
       "10             -1.722601          -1.804758          -1.917860   \n",
       "...                  ...                ...                ...   \n",
       "18235           0.818313           0.727700           0.394720   \n",
       "18236           1.022324           0.818313           0.727700   \n",
       "18237           1.635409           1.022324           0.818313   \n",
       "18238           1.434405           1.635409           1.022324   \n",
       "18239           1.608027           1.434405           1.635409   \n",
       "\n",
       "       wind_v_PC_8_lag_6   y_lag_1   y_lag_2   y_lag_3   y_lag_4   y_lag_5  \\\n",
       "6              -1.537871  0.190879  0.238839  0.285051  0.373853  0.463563   \n",
       "7              -1.594176  0.123832  0.190879  0.238839  0.285051  0.373853   \n",
       "8              -1.581817  0.114784  0.123832  0.190879  0.238839  0.285051   \n",
       "9              -1.909946  0.143285  0.114784  0.123832  0.190879  0.238839   \n",
       "10             -2.029732  0.229517  0.143285  0.114784  0.123832  0.190879   \n",
       "...                  ...       ...       ...       ...       ...       ...   \n",
       "18235          -0.107754  0.065000  0.168333  0.205000  0.241667  0.206667   \n",
       "18236           0.394720 -0.110000  0.065000  0.168333  0.205000  0.241667   \n",
       "18237           0.727700 -0.265000 -0.110000  0.065000  0.168333  0.205000   \n",
       "18238           0.818313 -0.316667 -0.265000 -0.110000  0.065000  0.168333   \n",
       "18239           1.022324 -0.393333 -0.316667 -0.265000 -0.110000  0.065000   \n",
       "\n",
       "        y_lag_6  \n",
       "6      0.487133  \n",
       "7      0.463563  \n",
       "8      0.373853  \n",
       "9      0.285051  \n",
       "10     0.238839  \n",
       "...         ...  \n",
       "18235  0.103333  \n",
       "18236  0.206667  \n",
       "18237  0.241667  \n",
       "18238  0.205000  \n",
       "18239  0.168333  \n",
       "\n",
       "[18234 rows x 680 columns]"
      ]
     },
     "metadata": {},
     "output_type": "display_data"
    },
    {
     "data": {
      "text/html": [
       "<div>\n",
       "<style scoped>\n",
       "    .dataframe tbody tr th:only-of-type {\n",
       "        vertical-align: middle;\n",
       "    }\n",
       "\n",
       "    .dataframe tbody tr th {\n",
       "        vertical-align: top;\n",
       "    }\n",
       "\n",
       "    .dataframe thead th {\n",
       "        text-align: right;\n",
       "    }\n",
       "</style>\n",
       "<table border=\"1\" class=\"dataframe\">\n",
       "  <thead>\n",
       "    <tr style=\"text-align: right;\">\n",
       "      <th></th>\n",
       "      <th>ds</th>\n",
       "      <th>bottomT_PC_1</th>\n",
       "      <th>bottomT_PC_2</th>\n",
       "      <th>bottomT_PC_3</th>\n",
       "      <th>bottomT_PC_4</th>\n",
       "      <th>sla_PC_1</th>\n",
       "      <th>sla_PC_2</th>\n",
       "      <th>sla_PC_3</th>\n",
       "      <th>so_PC_1</th>\n",
       "      <th>so_PC_2</th>\n",
       "      <th>...</th>\n",
       "      <th>wind_v_PC_8_lag_3</th>\n",
       "      <th>wind_v_PC_8_lag_4</th>\n",
       "      <th>wind_v_PC_8_lag_5</th>\n",
       "      <th>wind_v_PC_8_lag_6</th>\n",
       "      <th>y_lag_1</th>\n",
       "      <th>y_lag_2</th>\n",
       "      <th>y_lag_3</th>\n",
       "      <th>y_lag_4</th>\n",
       "      <th>y_lag_5</th>\n",
       "      <th>y_lag_6</th>\n",
       "    </tr>\n",
       "  </thead>\n",
       "  <tbody>\n",
       "    <tr>\n",
       "      <th>18240</th>\n",
       "      <td>2025-01-01 00:00:00</td>\n",
       "      <td>-0.594749</td>\n",
       "      <td>-0.606518</td>\n",
       "      <td>-0.246635</td>\n",
       "      <td>0.290304</td>\n",
       "      <td>1.511220</td>\n",
       "      <td>1.961435</td>\n",
       "      <td>-2.320812</td>\n",
       "      <td>1.362626</td>\n",
       "      <td>0.582624</td>\n",
       "      <td>...</td>\n",
       "      <td>1.796824</td>\n",
       "      <td>1.608027</td>\n",
       "      <td>1.434405</td>\n",
       "      <td>1.635409</td>\n",
       "      <td>-0.516667</td>\n",
       "      <td>-0.393333</td>\n",
       "      <td>-0.316667</td>\n",
       "      <td>-0.265000</td>\n",
       "      <td>-0.110000</td>\n",
       "      <td>0.065000</td>\n",
       "    </tr>\n",
       "    <tr>\n",
       "      <th>18241</th>\n",
       "      <td>2025-01-01 01:00:00</td>\n",
       "      <td>-0.596070</td>\n",
       "      <td>-0.601875</td>\n",
       "      <td>-0.232467</td>\n",
       "      <td>0.269744</td>\n",
       "      <td>1.500847</td>\n",
       "      <td>2.286545</td>\n",
       "      <td>-2.458659</td>\n",
       "      <td>1.368198</td>\n",
       "      <td>0.591566</td>\n",
       "      <td>...</td>\n",
       "      <td>2.533280</td>\n",
       "      <td>1.796824</td>\n",
       "      <td>1.608027</td>\n",
       "      <td>1.434405</td>\n",
       "      <td>-0.536667</td>\n",
       "      <td>-0.516667</td>\n",
       "      <td>-0.393333</td>\n",
       "      <td>-0.316667</td>\n",
       "      <td>-0.265000</td>\n",
       "      <td>-0.110000</td>\n",
       "    </tr>\n",
       "    <tr>\n",
       "      <th>18242</th>\n",
       "      <td>2025-01-01 02:00:00</td>\n",
       "      <td>-0.597046</td>\n",
       "      <td>-0.598618</td>\n",
       "      <td>-0.229393</td>\n",
       "      <td>0.266700</td>\n",
       "      <td>1.470679</td>\n",
       "      <td>2.576662</td>\n",
       "      <td>-2.557171</td>\n",
       "      <td>1.370120</td>\n",
       "      <td>0.598481</td>\n",
       "      <td>...</td>\n",
       "      <td>2.682510</td>\n",
       "      <td>2.533280</td>\n",
       "      <td>1.796824</td>\n",
       "      <td>1.608027</td>\n",
       "      <td>-0.566667</td>\n",
       "      <td>-0.536667</td>\n",
       "      <td>-0.516667</td>\n",
       "      <td>-0.393333</td>\n",
       "      <td>-0.316667</td>\n",
       "      <td>-0.265000</td>\n",
       "    </tr>\n",
       "    <tr>\n",
       "      <th>18243</th>\n",
       "      <td>2025-01-01 03:00:00</td>\n",
       "      <td>-0.598216</td>\n",
       "      <td>-0.595379</td>\n",
       "      <td>-0.227157</td>\n",
       "      <td>0.267686</td>\n",
       "      <td>1.428973</td>\n",
       "      <td>2.839926</td>\n",
       "      <td>-2.605468</td>\n",
       "      <td>1.371592</td>\n",
       "      <td>0.607398</td>\n",
       "      <td>...</td>\n",
       "      <td>2.555156</td>\n",
       "      <td>2.682510</td>\n",
       "      <td>2.533280</td>\n",
       "      <td>1.796824</td>\n",
       "      <td>-0.638333</td>\n",
       "      <td>-0.566667</td>\n",
       "      <td>-0.536667</td>\n",
       "      <td>-0.516667</td>\n",
       "      <td>-0.393333</td>\n",
       "      <td>-0.316667</td>\n",
       "    </tr>\n",
       "    <tr>\n",
       "      <th>18244</th>\n",
       "      <td>2025-01-01 04:00:00</td>\n",
       "      <td>-0.598849</td>\n",
       "      <td>-0.591694</td>\n",
       "      <td>-0.224628</td>\n",
       "      <td>0.263314</td>\n",
       "      <td>1.385750</td>\n",
       "      <td>3.037917</td>\n",
       "      <td>-2.669885</td>\n",
       "      <td>1.371422</td>\n",
       "      <td>0.617123</td>\n",
       "      <td>...</td>\n",
       "      <td>1.738916</td>\n",
       "      <td>2.555156</td>\n",
       "      <td>2.682510</td>\n",
       "      <td>2.533280</td>\n",
       "      <td>-0.676667</td>\n",
       "      <td>-0.638333</td>\n",
       "      <td>-0.566667</td>\n",
       "      <td>-0.536667</td>\n",
       "      <td>-0.516667</td>\n",
       "      <td>-0.393333</td>\n",
       "    </tr>\n",
       "    <tr>\n",
       "      <th>...</th>\n",
       "      <td>...</td>\n",
       "      <td>...</td>\n",
       "      <td>...</td>\n",
       "      <td>...</td>\n",
       "      <td>...</td>\n",
       "      <td>...</td>\n",
       "      <td>...</td>\n",
       "      <td>...</td>\n",
       "      <td>...</td>\n",
       "      <td>...</td>\n",
       "      <td>...</td>\n",
       "      <td>...</td>\n",
       "      <td>...</td>\n",
       "      <td>...</td>\n",
       "      <td>...</td>\n",
       "      <td>...</td>\n",
       "      <td>...</td>\n",
       "      <td>...</td>\n",
       "      <td>...</td>\n",
       "      <td>...</td>\n",
       "      <td>...</td>\n",
       "    </tr>\n",
       "    <tr>\n",
       "      <th>20156</th>\n",
       "      <td>2025-03-21 20:00:00</td>\n",
       "      <td>-0.852832</td>\n",
       "      <td>0.304002</td>\n",
       "      <td>0.242566</td>\n",
       "      <td>-0.543267</td>\n",
       "      <td>-0.450593</td>\n",
       "      <td>-1.642004</td>\n",
       "      <td>0.088681</td>\n",
       "      <td>-0.618588</td>\n",
       "      <td>-0.563127</td>\n",
       "      <td>...</td>\n",
       "      <td>-0.175218</td>\n",
       "      <td>-0.095271</td>\n",
       "      <td>-0.441699</td>\n",
       "      <td>-0.723018</td>\n",
       "      <td>0.420000</td>\n",
       "      <td>0.336667</td>\n",
       "      <td>0.275000</td>\n",
       "      <td>0.231667</td>\n",
       "      <td>0.245000</td>\n",
       "      <td>0.278333</td>\n",
       "    </tr>\n",
       "    <tr>\n",
       "      <th>20157</th>\n",
       "      <td>2025-03-21 21:00:00</td>\n",
       "      <td>-0.854031</td>\n",
       "      <td>0.301599</td>\n",
       "      <td>0.241763</td>\n",
       "      <td>-0.543499</td>\n",
       "      <td>-0.465324</td>\n",
       "      <td>-1.552174</td>\n",
       "      <td>0.280006</td>\n",
       "      <td>-0.615991</td>\n",
       "      <td>-0.559928</td>\n",
       "      <td>...</td>\n",
       "      <td>-0.506669</td>\n",
       "      <td>-0.175218</td>\n",
       "      <td>-0.095271</td>\n",
       "      <td>-0.441699</td>\n",
       "      <td>0.483333</td>\n",
       "      <td>0.420000</td>\n",
       "      <td>0.336667</td>\n",
       "      <td>0.275000</td>\n",
       "      <td>0.231667</td>\n",
       "      <td>0.245000</td>\n",
       "    </tr>\n",
       "    <tr>\n",
       "      <th>20158</th>\n",
       "      <td>2025-03-21 22:00:00</td>\n",
       "      <td>-0.855638</td>\n",
       "      <td>0.299369</td>\n",
       "      <td>0.241838</td>\n",
       "      <td>-0.543754</td>\n",
       "      <td>-0.475831</td>\n",
       "      <td>-1.457704</td>\n",
       "      <td>0.445328</td>\n",
       "      <td>-0.610756</td>\n",
       "      <td>-0.563381</td>\n",
       "      <td>...</td>\n",
       "      <td>-0.701652</td>\n",
       "      <td>-0.506669</td>\n",
       "      <td>-0.175218</td>\n",
       "      <td>-0.095271</td>\n",
       "      <td>0.496667</td>\n",
       "      <td>0.483333</td>\n",
       "      <td>0.420000</td>\n",
       "      <td>0.336667</td>\n",
       "      <td>0.275000</td>\n",
       "      <td>0.231667</td>\n",
       "    </tr>\n",
       "    <tr>\n",
       "      <th>20159</th>\n",
       "      <td>2025-03-21 23:00:00</td>\n",
       "      <td>-0.857216</td>\n",
       "      <td>0.297495</td>\n",
       "      <td>0.242355</td>\n",
       "      <td>-0.543240</td>\n",
       "      <td>-0.483009</td>\n",
       "      <td>-1.387714</td>\n",
       "      <td>0.528586</td>\n",
       "      <td>-0.603634</td>\n",
       "      <td>-0.579456</td>\n",
       "      <td>...</td>\n",
       "      <td>-1.052708</td>\n",
       "      <td>-0.701652</td>\n",
       "      <td>-0.506669</td>\n",
       "      <td>-0.175218</td>\n",
       "      <td>0.538333</td>\n",
       "      <td>0.496667</td>\n",
       "      <td>0.483333</td>\n",
       "      <td>0.420000</td>\n",
       "      <td>0.336667</td>\n",
       "      <td>0.275000</td>\n",
       "    </tr>\n",
       "    <tr>\n",
       "      <th>20160</th>\n",
       "      <td>2025-03-22 00:00:00</td>\n",
       "      <td>-0.858678</td>\n",
       "      <td>0.295702</td>\n",
       "      <td>0.242991</td>\n",
       "      <td>-0.543012</td>\n",
       "      <td>-0.491368</td>\n",
       "      <td>-1.355000</td>\n",
       "      <td>0.518511</td>\n",
       "      <td>-0.592605</td>\n",
       "      <td>-0.595034</td>\n",
       "      <td>...</td>\n",
       "      <td>-1.320427</td>\n",
       "      <td>-1.052708</td>\n",
       "      <td>-0.701652</td>\n",
       "      <td>-0.506669</td>\n",
       "      <td>0.550000</td>\n",
       "      <td>0.538333</td>\n",
       "      <td>0.496667</td>\n",
       "      <td>0.483333</td>\n",
       "      <td>0.420000</td>\n",
       "      <td>0.336667</td>\n",
       "    </tr>\n",
       "  </tbody>\n",
       "</table>\n",
       "<p>1921 rows × 680 columns</p>\n",
       "</div>"
      ],
      "text/plain": [
       "                       ds  bottomT_PC_1  bottomT_PC_2  bottomT_PC_3  \\\n",
       "18240 2025-01-01 00:00:00     -0.594749     -0.606518     -0.246635   \n",
       "18241 2025-01-01 01:00:00     -0.596070     -0.601875     -0.232467   \n",
       "18242 2025-01-01 02:00:00     -0.597046     -0.598618     -0.229393   \n",
       "18243 2025-01-01 03:00:00     -0.598216     -0.595379     -0.227157   \n",
       "18244 2025-01-01 04:00:00     -0.598849     -0.591694     -0.224628   \n",
       "...                   ...           ...           ...           ...   \n",
       "20156 2025-03-21 20:00:00     -0.852832      0.304002      0.242566   \n",
       "20157 2025-03-21 21:00:00     -0.854031      0.301599      0.241763   \n",
       "20158 2025-03-21 22:00:00     -0.855638      0.299369      0.241838   \n",
       "20159 2025-03-21 23:00:00     -0.857216      0.297495      0.242355   \n",
       "20160 2025-03-22 00:00:00     -0.858678      0.295702      0.242991   \n",
       "\n",
       "       bottomT_PC_4  sla_PC_1  sla_PC_2  sla_PC_3   so_PC_1   so_PC_2  ...  \\\n",
       "18240      0.290304  1.511220  1.961435 -2.320812  1.362626  0.582624  ...   \n",
       "18241      0.269744  1.500847  2.286545 -2.458659  1.368198  0.591566  ...   \n",
       "18242      0.266700  1.470679  2.576662 -2.557171  1.370120  0.598481  ...   \n",
       "18243      0.267686  1.428973  2.839926 -2.605468  1.371592  0.607398  ...   \n",
       "18244      0.263314  1.385750  3.037917 -2.669885  1.371422  0.617123  ...   \n",
       "...             ...       ...       ...       ...       ...       ...  ...   \n",
       "20156     -0.543267 -0.450593 -1.642004  0.088681 -0.618588 -0.563127  ...   \n",
       "20157     -0.543499 -0.465324 -1.552174  0.280006 -0.615991 -0.559928  ...   \n",
       "20158     -0.543754 -0.475831 -1.457704  0.445328 -0.610756 -0.563381  ...   \n",
       "20159     -0.543240 -0.483009 -1.387714  0.528586 -0.603634 -0.579456  ...   \n",
       "20160     -0.543012 -0.491368 -1.355000  0.518511 -0.592605 -0.595034  ...   \n",
       "\n",
       "       wind_v_PC_8_lag_3  wind_v_PC_8_lag_4  wind_v_PC_8_lag_5  \\\n",
       "18240           1.796824           1.608027           1.434405   \n",
       "18241           2.533280           1.796824           1.608027   \n",
       "18242           2.682510           2.533280           1.796824   \n",
       "18243           2.555156           2.682510           2.533280   \n",
       "18244           1.738916           2.555156           2.682510   \n",
       "...                  ...                ...                ...   \n",
       "20156          -0.175218          -0.095271          -0.441699   \n",
       "20157          -0.506669          -0.175218          -0.095271   \n",
       "20158          -0.701652          -0.506669          -0.175218   \n",
       "20159          -1.052708          -0.701652          -0.506669   \n",
       "20160          -1.320427          -1.052708          -0.701652   \n",
       "\n",
       "       wind_v_PC_8_lag_6   y_lag_1   y_lag_2   y_lag_3   y_lag_4   y_lag_5  \\\n",
       "18240           1.635409 -0.516667 -0.393333 -0.316667 -0.265000 -0.110000   \n",
       "18241           1.434405 -0.536667 -0.516667 -0.393333 -0.316667 -0.265000   \n",
       "18242           1.608027 -0.566667 -0.536667 -0.516667 -0.393333 -0.316667   \n",
       "18243           1.796824 -0.638333 -0.566667 -0.536667 -0.516667 -0.393333   \n",
       "18244           2.533280 -0.676667 -0.638333 -0.566667 -0.536667 -0.516667   \n",
       "...                  ...       ...       ...       ...       ...       ...   \n",
       "20156          -0.723018  0.420000  0.336667  0.275000  0.231667  0.245000   \n",
       "20157          -0.441699  0.483333  0.420000  0.336667  0.275000  0.231667   \n",
       "20158          -0.095271  0.496667  0.483333  0.420000  0.336667  0.275000   \n",
       "20159          -0.175218  0.538333  0.496667  0.483333  0.420000  0.336667   \n",
       "20160          -0.506669  0.550000  0.538333  0.496667  0.483333  0.420000   \n",
       "\n",
       "        y_lag_6  \n",
       "18240  0.065000  \n",
       "18241 -0.110000  \n",
       "18242 -0.265000  \n",
       "18243 -0.316667  \n",
       "18244 -0.393333  \n",
       "...         ...  \n",
       "20156  0.278333  \n",
       "20157  0.245000  \n",
       "20158  0.231667  \n",
       "20159  0.275000  \n",
       "20160  0.336667  \n",
       "\n",
       "[1921 rows x 680 columns]"
      ]
     },
     "metadata": {},
     "output_type": "display_data"
    }
   ],
   "source": [
    "display(df_train)\n",
    "display(df_val)"
   ]
  },
  {
   "cell_type": "code",
   "execution_count": 25,
   "id": "046644c4",
   "metadata": {},
   "outputs": [
    {
     "name": "stdout",
     "output_type": "stream",
     "text": [
      "\n",
      "Train shapes:\n",
      "(15261, 168, 678) (15261, 168) <class 'numpy.ndarray'> <class 'numpy.ndarray'>\n",
      "\n",
      "Validation shapes:\n",
      "(1586, 168, 678) (1586, 168) <class 'numpy.ndarray'> <class 'numpy.ndarray'>\n",
      "\n",
      "Test shapes:\n",
      "(1968, 168, 678) (1968, 168) <class 'numpy.ndarray'> <class 'numpy.ndarray'>\n"
     ]
    }
   ],
   "source": [
    "def create_sequences(df, seq_len=168, horizon=1):\n",
    "    \"\"\"\n",
    "    Erzeugt nur Sequenzen, die innerhalb eines zusammenhängenden Bereichs liegen.\n",
    "    \"\"\"\n",
    "\n",
    "    X_data = df.drop(columns=[\"y\"]).set_index(\"ds\").to_numpy()\n",
    "    y_data = df[[\"ds\", \"y\"]].set_index(\"ds\").to_numpy()\n",
    "\n",
    "\n",
    "\n",
    "    X, y = [], []\n",
    "    for i in range(len(X_data) - seq_len - horizon + 1):\n",
    "        window_x = X_data[i:i+seq_len+horizon] \n",
    "        window_y = y_data[i:i+seq_len+horizon]\n",
    "\n",
    "        # Sicherheitscheck: Kein NaN und Index ist lückenlos\n",
    "        if np.any(np.isnan(window_x)) or np.any(np.isnan(window_y)):\n",
    "            continue  # überspringen\n",
    "        X.append(window_x[:seq_len])\n",
    "        y.append(window_y[seq_len:seq_len+horizon, 0])  \n",
    "    return np.array(X), np.array(y)\n",
    "\n",
    "X_train, y_train = create_sequences(df_train, seq_len=168, horizon=168)\n",
    "X_val, y_val = create_sequences(df_val, seq_len=168, horizon=168)\n",
    "X_test, y_test = create_sequences(df_surge, seq_len=168, horizon=168)\n",
    "\n",
    "print(\"\\nTrain shapes:\")\n",
    "print(X_train.shape, y_train.shape, type(X_train), type(y_train))\n",
    "\n",
    "print(\"\\nValidation shapes:\")\n",
    "print(X_val.shape, y_val.shape, type(X_val), type(y_val))\n",
    "\n",
    "print(\"\\nTest shapes:\")\n",
    "print(X_test.shape, y_test.shape, type(X_test), type(y_test))"
   ]
  },
  {
   "cell_type": "code",
   "execution_count": 26,
   "id": "765bab9d",
   "metadata": {},
   "outputs": [
    {
     "data": {
      "image/png": "[encoded data removed]",
      "text/plain": [
       "<Figure size 1000x200 with 1 Axes>"
      ]
     },
     "metadata": {},
     "output_type": "display_data"
    }
   ],
   "source": [
    "plt.figure(figsize=(10, 2))\n",
    "plt.plot(y_test[900], label='Surge Data')\n",
    "plt.show()"
   ]
  },
  {
   "cell_type": "code",
   "execution_count": 27,
   "id": "c4a62391",
   "metadata": {},
   "outputs": [
    {
     "name": "stdout",
     "output_type": "stream",
     "text": [
      "Scaled shapes:\n",
      "(15261, 168, 678) (15261, 168) <class 'numpy.ndarray'> <class 'numpy.ndarray'>\n",
      "(1586, 168, 678) (1586, 168) <class 'numpy.ndarray'> <class 'numpy.ndarray'>\n",
      "(1968, 168, 678) (1968, 168) <class 'numpy.ndarray'> <class 'numpy.ndarray'>\n"
     ]
    }
   ],
   "source": [
    "# Scaling x data\n",
    "\n",
    "\n",
    "x_scaler = StandardScaler()\n",
    "X_train_scaled = x_scaler.fit_transform(X_train.reshape(-1, X_train.shape[-1])).reshape(X_train.shape)\n",
    "X_val_scaled = x_scaler.transform(X_val.reshape(-1, X_val.shape[-1])).reshape(X_val.shape)\n",
    "X_test_scaled = x_scaler.transform(X_test.reshape(-1, X_test.shape[-1])).reshape(X_test.shape)\n",
    "\n",
    "\n",
    "\n",
    "print(\"Scaled shapes:\")\n",
    "print(X_train_scaled.shape, y_train.shape, type(X_train_scaled), type(y_train))\n",
    "print(X_val_scaled.shape, y_val.shape, type(X_val_scaled), type(y_val))\n",
    "print(X_test_scaled.shape, y_test.shape, type(X_test_scaled), type(y_test))"
   ]
  },
  {
   "cell_type": "code",
   "execution_count": 28,
   "id": "93b0362e",
   "metadata": {},
   "outputs": [],
   "source": [
    "# # Scaling y_train and y_test\n",
    "# y_scaler = StandardScaler()\n",
    "# y_train_scaled = y_scaler.fit_transform(y_train.reshape(-1, 1)).reshape(y_train.shape)\n",
    "# y_val_scaled = y_scaler.transform(y_val.reshape(-1, 1)).reshape(y_val.shape)\n",
    "# y_test_scaled = y_scaler.transform(y_test.reshape(-1, 1)).reshape(y_test.shape)\n",
    "\n",
    "# print(\"Scaled y shapes:\")\n",
    "# print(y_train_scaled.shape, type(y_train_scaled))\n",
    "# print(y_val_scaled.shape, type(y_val_scaled))\n",
    "# print(y_test_scaled.shape, type(y_test_scaled))"
   ]
  },
  {
   "cell_type": "code",
   "execution_count": 29,
   "id": "1ae3080a",
   "metadata": {},
   "outputs": [
    {
     "name": "stdout",
     "output_type": "stream",
     "text": [
      "\n",
      "Tensor shapes:\n",
      "torch.Size([15261, 168, 678]) torch.Size([15261, 168]) <class 'torch.Tensor'> <class 'torch.Tensor'>\n",
      "torch.Size([1586, 168, 678]) torch.Size([1586, 168]) <class 'torch.Tensor'> <class 'torch.Tensor'>\n",
      "torch.Size([1968, 168, 678]) torch.Size([1968, 168]) <class 'torch.Tensor'> <class 'torch.Tensor'>\n"
     ]
    }
   ],
   "source": [
    "import torch\n",
    "\n",
    "# Numpy → Tensor\n",
    "X_train_tensor = torch.tensor(X_train_scaled, dtype=torch.float32)\n",
    "y_train_tensor = torch.tensor(y_train, dtype=torch.float32)\n",
    "\n",
    "X_val_tensor = torch.tensor(X_val_scaled, dtype=torch.float32)\n",
    "y_val_tensor = torch.tensor(y_val, dtype=torch.float32)\n",
    "\n",
    "X_test_tensor = torch.tensor(X_test_scaled, dtype=torch.float32)\n",
    "y_test_tensor = torch.tensor(y_test, dtype=torch.float32)\n",
    "\n",
    "print(\"\\nTensor shapes:\")\n",
    "print(X_train_tensor.shape, y_train_tensor.shape, type(X_train_tensor), type(y_train_tensor))\n",
    "print(X_val_tensor.shape, y_val_tensor.shape, type(X_val_tensor), type(y_val_tensor))\n",
    "print(X_test_tensor.shape, y_test_tensor.shape, type(X_test_tensor), type(y_test_tensor))"
   ]
  },
  {
   "cell_type": "code",
   "execution_count": 38,
   "id": "73c27cff",
   "metadata": {},
   "outputs": [
    {
     "name": "stdout",
     "output_type": "stream",
     "text": [
      "['fc_sequence_optimization']\n",
      "{'linear1_output': 497, 'linear2_output': 321, 'linear3_output': 195, 'dropout': 0.37609066861548396, 'lr': 0.00310789588793112}\n"
     ]
    }
   ],
   "source": [
    "import optuna # Load optuna study\n",
    "def open_study_db(db_name):\n",
    "    storage = f'sqlite:///{db_name}'\n",
    "    study_name_list = optuna.study.get_all_study_names(storage=storage)\n",
    "    print(study_name_list)\n",
    "\n",
    "    study_name = next((name for name in study_name_list))\n",
    "\n",
    "    if study_name is None:\n",
    "        raise ValueError(\n",
    "\n",
    "            f\"Verfügbare Studien: {study_name_list}\"\n",
    "        )\n",
    "    return optuna.load_study(study_name=study_name, storage=storage)\n",
    "\n",
    "study = open_study_db(\"optuna_study_FFNN.db\")\n",
    "\n",
    "print(study.best_params)\n",
    "\n",
    "linear1_output = study.best_params[\"linear1_output\"]\n",
    "linear2_output = study.best_params[\"linear2_output\"]\n",
    "linear3_output = study.best_params[\"linear3_output\"]\n",
    "dropout = study.best_params[\"dropout\"]\n",
    "lr = study.best_params[\"lr\"]\n",
    "\n"
   ]
  },
  {
   "cell_type": "code",
   "execution_count": 39,
   "id": "dfa789ea",
   "metadata": {},
   "outputs": [
    {
     "data": {
      "application/vnd.plotly.v1+json": {
       "config": {
        "plotlyServerURL": "https://plot.ly"
       },
       "data": [
        {
         "mode": "markers",
         "name": "Objective Value",
         "type": "scatter",
         "x": [
          2,
          3,
          4,
          5,
          6,
          7,
          8,
          9,
          10,
          11,
          12,
          13,
          14,
          15,
          16,
          17,
          18,
          19,
          20,
          21,
          22,
          23,
          24,
          25,
          26,
          27,
          28,
          29,
          30,
          31,
          32,
          33,
          34,
          35,
          36,
          37,
          38,
          39,
          40,
          41,
          42,
          43,
          44,
          45,
          46,
          47,
          48,
          49,
          50,
          51,
          52,
          53,
          54,
          55,
          56,
          57,
          58,
          59,
          60,
          61
         ],
         "y": [
          0.3783166706562042,
          0.37602426707744596,
          0.3760459594428539,
          0.38046547770500183,
          0.37687432393431664,
          0.3773183703422546,
          0.3881782019748662,
          0.37770662009716033,
          0.37604702115058897,
          0.3773972049355507,
          0.3761492624878883,
          0.3760488472878933,
          0.3760315179824829,
          0.37605140209197996,
          0.376958654820919,
          0.3758451223373413,
          0.37753126621246336,
          0.37642158940434456,
          0.37602824345231056,
          0.37751077637076375,
          0.3760655775666237,
          0.3760320208966732,
          0.3764334425330162,
          0.3760388359427452,
          0.3760359033942222,
          0.3764184109866619,
          0.37700094431638714,
          0.3762510098516941,
          0.3776154540479183,
          0.3760672181844711,
          0.3764647349715233,
          0.3762922130525112,
          0.37606981992721555,
          0.3764975383877754,
          0.3760326378047466,
          0.3760289318859577,
          0.37646733447909353,
          0.3777822069823742,
          0.37603252604603765,
          0.3771230027079582,
          0.3760257847607136,
          0.37602680176496506,
          0.3760279461741447,
          0.3757201090455055,
          0.376035326719284,
          0.37603902369737624,
          0.37626288980245587,
          0.37603612914681434,
          0.3760305367410183,
          0.37636226788163185,
          0.3760302416980266,
          0.375955019146204,
          0.3762370601296425,
          0.5911669815874291,
          0.3760360576212406,
          0.3813829831779003,
          0.37802389860153196,
          0.37604672834277153,
          0.37618092149496074,
          0.3760388314723968
         ]
        },
        {
         "mode": "lines",
         "name": "Best Value",
         "type": "scatter",
         "x": [
          0,
          1,
          2,
          3,
          4,
          5,
          6,
          7,
          8,
          9,
          10,
          11,
          12,
          13,
          14,
          15,
          16,
          17,
          18,
          19,
          20,
          21,
          22,
          23,
          24,
          25,
          26,
          27,
          28,
          29,
          30,
          31,
          32,
          33,
          34,
          35,
          36,
          37,
          38,
          39,
          40,
          41,
          42,
          43,
          44,
          45,
          46,
          47,
          48,
          49,
          50,
          51,
          52,
          53,
          54,
          55,
          56,
          57,
          58,
          59,
          60,
          61
         ],
         "y": [
          null,
          null,
          0.3783166706562042,
          0.37602426707744596,
          0.37602426707744596,
          0.37602426707744596,
          0.37602426707744596,
          0.37602426707744596,
          0.37602426707744596,
          0.37602426707744596,
          0.37602426707744596,
          0.37602426707744596,
          0.37602426707744596,
          0.37602426707744596,
          0.37602426707744596,
          0.37602426707744596,
          0.37602426707744596,
          0.3758451223373413,
          0.3758451223373413,
          0.3758451223373413,
          0.3758451223373413,
          0.3758451223373413,
          0.3758451223373413,
          0.3758451223373413,
          0.3758451223373413,
          0.3758451223373413,
          0.3758451223373413,
          0.3758451223373413,
          0.3758451223373413,
          0.3758451223373413,
          0.3758451223373413,
          0.3758451223373413,
          0.3758451223373413,
          0.3758451223373413,
          0.3758451223373413,
          0.3758451223373413,
          0.3758451223373413,
          0.3758451223373413,
          0.3758451223373413,
          0.3758451223373413,
          0.3758451223373413,
          0.3758451223373413,
          0.3758451223373413,
          0.3758451223373413,
          0.3758451223373413,
          0.3757201090455055,
          0.3757201090455055,
          0.3757201090455055,
          0.3757201090455055,
          0.3757201090455055,
          0.3757201090455055,
          0.3757201090455055,
          0.3757201090455055,
          0.3757201090455055,
          0.3757201090455055,
          0.3757201090455055,
          0.3757201090455055,
          0.3757201090455055,
          0.3757201090455055,
          0.3757201090455055,
          0.3757201090455055,
          0.3757201090455055
         ]
        },
        {
         "marker": {
          "color": "#cccccc"
         },
         "mode": "markers",
         "name": "Infeasible Trial",
         "showlegend": false,
         "type": "scatter",
         "x": [],
         "y": []
        }
       ],
       "layout": {
        "template": {
         "data": {
          "bar": [
           {
            "error_x": {
             "color": "#2a3f5f"
            },
            "error_y": {
             "color": "#2a3f5f"
            },
            "marker": {
             "line": {
              "color": "#E5ECF6",
              "width": 0.5
             },
             "pattern": {
              "fillmode": "overlay",
              "size": 10,
              "solidity": 0.2
             }
            },
            "type": "bar"
           }
          ],
          "barpolar": [
           {
            "marker": {
             "line": {
              "color": "#E5ECF6",
              "width": 0.5
             },
             "pattern": {
              "fillmode": "overlay",
              "size": 10,
              "solidity": 0.2
             }
            },
            "type": "barpolar"
           }
          ],
          "carpet": [
           {
            "aaxis": {
             "endlinecolor": "#2a3f5f",
             "gridcolor": "white",
             "linecolor": "white",
             "minorgridcolor": "white",
             "startlinecolor": "#2a3f5f"
            },
            "baxis": {
             "endlinecolor": "#2a3f5f",
             "gridcolor": "white",
             "linecolor": "white",
             "minorgridcolor": "white",
             "startlinecolor": "#2a3f5f"
            },
            "type": "carpet"
           }
          ],
          "choropleth": [
           {
            "colorbar": {
             "outlinewidth": 0,
             "ticks": ""
            },
            "type": "choropleth"
           }
          ],
          "contour": [
           {
            "colorbar": {
             "outlinewidth": 0,
             "ticks": ""
            },
            "colorscale": [
             [
              0,
              "#0d0887"
             ],
             [
              0.1111111111111111,
              "#46039f"
             ],
             [
              0.2222222222222222,
              "#7201a8"
             ],
             [
              0.3333333333333333,
              "#9c179e"
             ],
             [
              0.4444444444444444,
              "#bd3786"
             ],
             [
              0.5555555555555556,
              "#d8576b"
             ],
             [
              0.6666666666666666,
              "#ed7953"
             ],
             [
              0.7777777777777778,
              "#fb9f3a"
             ],
             [
              0.8888888888888888,
              "#fdca26"
             ],
             [
              1,
              "#f0f921"
             ]
            ],
            "type": "contour"
           }
          ],
          "contourcarpet": [
           {
            "colorbar": {
             "outlinewidth": 0,
             "ticks": ""
            },
            "type": "contourcarpet"
           }
          ],
          "heatmap": [
           {
            "colorbar": {
             "outlinewidth": 0,
             "ticks": ""
            },
            "colorscale": [
             [
              0,
              "#0d0887"
             ],
             [
              0.1111111111111111,
              "#46039f"
             ],
             [
              0.2222222222222222,
              "#7201a8"
             ],
             [
              0.3333333333333333,
              "#9c179e"
             ],
             [
              0.4444444444444444,
              "#bd3786"
             ],
             [
              0.5555555555555556,
              "#d8576b"
             ],
             [
              0.6666666666666666,
              "#ed7953"
             ],
             [
              0.7777777777777778,
              "#fb9f3a"
             ],
             [
              0.8888888888888888,
              "#fdca26"
             ],
             [
              1,
              "#f0f921"
             ]
            ],
            "type": "heatmap"
           }
          ],
          "histogram": [
           {
            "marker": {
             "pattern": {
              "fillmode": "overlay",
              "size": 10,
              "solidity": 0.2
             }
            },
            "type": "histogram"
           }
          ],
          "histogram2d": [
           {
            "colorbar": {
             "outlinewidth": 0,
             "ticks": ""
            },
            "colorscale": [
             [
              0,
              "#0d0887"
             ],
             [
              0.1111111111111111,
              "#46039f"
             ],
             [
              0.2222222222222222,
              "#7201a8"
             ],
             [
              0.3333333333333333,
              "#9c179e"
             ],
             [
              0.4444444444444444,
              "#bd3786"
             ],
             [
              0.5555555555555556,
              "#d8576b"
             ],
             [
              0.6666666666666666,
              "#ed7953"
             ],
             [
              0.7777777777777778,
              "#fb9f3a"
             ],
             [
              0.8888888888888888,
              "#fdca26"
             ],
             [
              1,
              "#f0f921"
             ]
            ],
            "type": "histogram2d"
           }
          ],
          "histogram2dcontour": [
           {
            "colorbar": {
             "outlinewidth": 0,
             "ticks": ""
            },
            "colorscale": [
             [
              0,
              "#0d0887"
             ],
             [
              0.1111111111111111,
              "#46039f"
             ],
             [
              0.2222222222222222,
              "#7201a8"
             ],
             [
              0.3333333333333333,
              "#9c179e"
             ],
             [
              0.4444444444444444,
              "#bd3786"
             ],
             [
              0.5555555555555556,
              "#d8576b"
             ],
             [
              0.6666666666666666,
              "#ed7953"
             ],
             [
              0.7777777777777778,
              "#fb9f3a"
             ],
             [
              0.8888888888888888,
              "#fdca26"
             ],
             [
              1,
              "#f0f921"
             ]
            ],
            "type": "histogram2dcontour"
           }
          ],
          "mesh3d": [
           {
            "colorbar": {
             "outlinewidth": 0,
             "ticks": ""
            },
            "type": "mesh3d"
           }
          ],
          "parcoords": [
           {
            "line": {
             "colorbar": {
              "outlinewidth": 0,
              "ticks": ""
             }
            },
            "type": "parcoords"
           }
          ],
          "pie": [
           {
            "automargin": true,
            "type": "pie"
           }
          ],
          "scatter": [
           {
            "fillpattern": {
             "fillmode": "overlay",
             "size": 10,
             "solidity": 0.2
            },
            "type": "scatter"
           }
          ],
          "scatter3d": [
           {
            "line": {
             "colorbar": {
              "outlinewidth": 0,
              "ticks": ""
             }
            },
            "marker": {
             "colorbar": {
              "outlinewidth": 0,
              "ticks": ""
             }
            },
            "type": "scatter3d"
           }
          ],
          "scattercarpet": [
           {
            "marker": {
             "colorbar": {
              "outlinewidth": 0,
              "ticks": ""
             }
            },
            "type": "scattercarpet"
           }
          ],
          "scattergeo": [
           {
            "marker": {
             "colorbar": {
              "outlinewidth": 0,
              "ticks": ""
             }
            },
            "type": "scattergeo"
           }
          ],
          "scattergl": [
           {
            "marker": {
             "colorbar": {
              "outlinewidth": 0,
              "ticks": ""
             }
            },
            "type": "scattergl"
           }
          ],
          "scattermap": [
           {
            "marker": {
             "colorbar": {
              "outlinewidth": 0,
              "ticks": ""
             }
            },
            "type": "scattermap"
           }
          ],
          "scattermapbox": [
           {
            "marker": {
             "colorbar": {
              "outlinewidth": 0,
              "ticks": ""
             }
            },
            "type": "scattermapbox"
           }
          ],
          "scatterpolar": [
           {
            "marker": {
             "colorbar": {
              "outlinewidth": 0,
              "ticks": ""
             }
            },
            "type": "scatterpolar"
           }
          ],
          "scatterpolargl": [
           {
            "marker": {
             "colorbar": {
              "outlinewidth": 0,
              "ticks": ""
             }
            },
            "type": "scatterpolargl"
           }
          ],
          "scatterternary": [
           {
            "marker": {
             "colorbar": {
              "outlinewidth": 0,
              "ticks": ""
             }
            },
            "type": "scatterternary"
           }
          ],
          "surface": [
           {
            "colorbar": {
             "outlinewidth": 0,
             "ticks": ""
            },
            "colorscale": [
             [
              0,
              "#0d0887"
             ],
             [
              0.1111111111111111,
              "#46039f"
             ],
             [
              0.2222222222222222,
              "#7201a8"
             ],
             [
              0.3333333333333333,
              "#9c179e"
             ],
             [
              0.4444444444444444,
              "#bd3786"
             ],
             [
              0.5555555555555556,
              "#d8576b"
             ],
             [
              0.6666666666666666,
              "#ed7953"
             ],
             [
              0.7777777777777778,
              "#fb9f3a"
             ],
             [
              0.8888888888888888,
              "#fdca26"
             ],
             [
              1,
              "#f0f921"
             ]
            ],
            "type": "surface"
           }
          ],
          "table": [
           {
            "cells": {
             "fill": {
              "color": "#EBF0F8"
             },
             "line": {
              "color": "white"
             }
            },
            "header": {
             "fill": {
              "color": "#C8D4E3"
             },
             "line": {
              "color": "white"
             }
            },
            "type": "table"
           }
          ]
         },
         "layout": {
          "annotationdefaults": {
           "arrowcolor": "#2a3f5f",
           "arrowhead": 0,
           "arrowwidth": 1
          },
          "autotypenumbers": "strict",
          "coloraxis": {
           "colorbar": {
            "outlinewidth": 0,
            "ticks": ""
           }
          },
          "colorscale": {
           "diverging": [
            [
             0,
             "#8e0152"
            ],
            [
             0.1,
             "#c51b7d"
            ],
            [
             0.2,
             "#de77ae"
            ],
            [
             0.3,
             "#f1b6da"
            ],
            [
             0.4,
             "#fde0ef"
            ],
            [
             0.5,
             "#f7f7f7"
            ],
            [
             0.6,
             "#e6f5d0"
            ],
            [
             0.7,
             "#b8e186"
            ],
            [
             0.8,
             "#7fbc41"
            ],
            [
             0.9,
             "#4d9221"
            ],
            [
             1,
             "#276419"
            ]
           ],
           "sequential": [
            [
             0,
             "#0d0887"
            ],
            [
             0.1111111111111111,
             "#46039f"
            ],
            [
             0.2222222222222222,
             "#7201a8"
            ],
            [
             0.3333333333333333,
             "#9c179e"
            ],
            [
             0.4444444444444444,
             "#bd3786"
            ],
            [
             0.5555555555555556,
             "#d8576b"
            ],
            [
             0.6666666666666666,
             "#ed7953"
            ],
            [
             0.7777777777777778,
             "#fb9f3a"
            ],
            [
             0.8888888888888888,
             "#fdca26"
            ],
            [
             1,
             "#f0f921"
            ]
           ],
           "sequentialminus": [
            [
             0,
             "#0d0887"
            ],
            [
             0.1111111111111111,
             "#46039f"
            ],
            [
             0.2222222222222222,
             "#7201a8"
            ],
            [
             0.3333333333333333,
             "#9c179e"
            ],
            [
             0.4444444444444444,
             "#bd3786"
            ],
            [
             0.5555555555555556,
             "#d8576b"
            ],
            [
             0.6666666666666666,
             "#ed7953"
            ],
            [
             0.7777777777777778,
             "#fb9f3a"
            ],
            [
             0.8888888888888888,
             "#fdca26"
            ],
            [
             1,
             "#f0f921"
            ]
           ]
          },
          "colorway": [
           "#636efa",
           "#EF553B",
           "#00cc96",
           "#ab63fa",
           "#FFA15A",
           "#19d3f3",
           "#FF6692",
           "#B6E880",
           "#FF97FF",
           "#FECB52"
          ],
          "font": {
           "color": "#2a3f5f"
          },
          "geo": {
           "bgcolor": "white",
           "lakecolor": "white",
           "landcolor": "#E5ECF6",
           "showlakes": true,
           "showland": true,
           "subunitcolor": "white"
          },
          "hoverlabel": {
           "align": "left"
          },
          "hovermode": "closest",
          "mapbox": {
           "style": "light"
          },
          "paper_bgcolor": "white",
          "plot_bgcolor": "#E5ECF6",
          "polar": {
           "angularaxis": {
            "gridcolor": "white",
            "linecolor": "white",
            "ticks": ""
           },
           "bgcolor": "#E5ECF6",
           "radialaxis": {
            "gridcolor": "white",
            "linecolor": "white",
            "ticks": ""
           }
          },
          "scene": {
           "xaxis": {
            "backgroundcolor": "#E5ECF6",
            "gridcolor": "white",
            "gridwidth": 2,
            "linecolor": "white",
            "showbackground": true,
            "ticks": "",
            "zerolinecolor": "white"
           },
           "yaxis": {
            "backgroundcolor": "#E5ECF6",
            "gridcolor": "white",
            "gridwidth": 2,
            "linecolor": "white",
            "showbackground": true,
            "ticks": "",
            "zerolinecolor": "white"
           },
           "zaxis": {
            "backgroundcolor": "#E5ECF6",
            "gridcolor": "white",
            "gridwidth": 2,
            "linecolor": "white",
            "showbackground": true,
            "ticks": "",
            "zerolinecolor": "white"
           }
          },
          "shapedefaults": {
           "line": {
            "color": "#2a3f5f"
           }
          },
          "ternary": {
           "aaxis": {
            "gridcolor": "white",
            "linecolor": "white",
            "ticks": ""
           },
           "baxis": {
            "gridcolor": "white",
            "linecolor": "white",
            "ticks": ""
           },
           "bgcolor": "#E5ECF6",
           "caxis": {
            "gridcolor": "white",
            "linecolor": "white",
            "ticks": ""
           }
          },
          "title": {
           "x": 0.05
          },
          "xaxis": {
           "automargin": true,
           "gridcolor": "white",
           "linecolor": "white",
           "ticks": "",
           "title": {
            "standoff": 15
           },
           "zerolinecolor": "white",
           "zerolinewidth": 2
          },
          "yaxis": {
           "automargin": true,
           "gridcolor": "white",
           "linecolor": "white",
           "ticks": "",
           "title": {
            "standoff": 15
           },
           "zerolinecolor": "white",
           "zerolinewidth": 2
          }
         }
        },
        "title": {
         "text": "Optimization History Plot"
        },
        "xaxis": {
         "title": {
          "text": "Trial"
         }
        },
        "yaxis": {
         "title": {
          "text": "Objective Value"
         }
        }
       }
      }
     },
     "metadata": {},
     "output_type": "display_data"
    },
    {
     "data": {
      "application/vnd.plotly.v1+json": {
       "config": {
        "plotlyServerURL": "https://plot.ly"
       },
       "data": [
        {
         "cliponaxis": false,
         "hovertemplate": [
          "linear1_output (IntDistribution): 0.002057710797364187<extra></extra>",
          "linear2_output (IntDistribution): 0.003661770549637386<extra></extra>",
          "lr (FloatDistribution): 0.09773125567368285<extra></extra>",
          "dropout (FloatDistribution): 0.17578716244083537<extra></extra>",
          "linear3_output (IntDistribution): 0.7207621005384801<extra></extra>"
         ],
         "name": "Objective Value",
         "orientation": "h",
         "text": [
          "<0.01",
          "<0.01",
          "0.10",
          "0.18",
          "0.72"
         ],
         "textposition": "outside",
         "type": "bar",
         "x": [
          0.002057710797364187,
          0.003661770549637386,
          0.09773125567368285,
          0.17578716244083537,
          0.7207621005384801
         ],
         "y": [
          "linear1_output",
          "linear2_output",
          "lr",
          "dropout",
          "linear3_output"
         ]
        }
       ],
       "layout": {
        "template": {
         "data": {
          "bar": [
           {
            "error_x": {
             "color": "#2a3f5f"
            },
            "error_y": {
             "color": "#2a3f5f"
            },
            "marker": {
             "line": {
              "color": "#E5ECF6",
              "width": 0.5
             },
             "pattern": {
              "fillmode": "overlay",
              "size": 10,
              "solidity": 0.2
             }
            },
            "type": "bar"
           }
          ],
          "barpolar": [
           {
            "marker": {
             "line": {
              "color": "#E5ECF6",
              "width": 0.5
             },
             "pattern": {
              "fillmode": "overlay",
              "size": 10,
              "solidity": 0.2
             }
            },
            "type": "barpolar"
           }
          ],
          "carpet": [
           {
            "aaxis": {
             "endlinecolor": "#2a3f5f",
             "gridcolor": "white",
             "linecolor": "white",
             "minorgridcolor": "white",
             "startlinecolor": "#2a3f5f"
            },
            "baxis": {
             "endlinecolor": "#2a3f5f",
             "gridcolor": "white",
             "linecolor": "white",
             "minorgridcolor": "white",
             "startlinecolor": "#2a3f5f"
            },
            "type": "carpet"
           }
          ],
          "choropleth": [
           {
            "colorbar": {
             "outlinewidth": 0,
             "ticks": ""
            },
            "type": "choropleth"
           }
          ],
          "contour": [
           {
            "colorbar": {
             "outlinewidth": 0,
             "ticks": ""
            },
            "colorscale": [
             [
              0,
              "#0d0887"
             ],
             [
              0.1111111111111111,
              "#46039f"
             ],
             [
              0.2222222222222222,
              "#7201a8"
             ],
             [
              0.3333333333333333,
              "#9c179e"
             ],
             [
              0.4444444444444444,
              "#bd3786"
             ],
             [
              0.5555555555555556,
              "#d8576b"
             ],
             [
              0.6666666666666666,
              "#ed7953"
             ],
             [
              0.7777777777777778,
              "#fb9f3a"
             ],
             [
              0.8888888888888888,
              "#fdca26"
             ],
             [
              1,
              "#f0f921"
             ]
            ],
            "type": "contour"
           }
          ],
          "contourcarpet": [
           {
            "colorbar": {
             "outlinewidth": 0,
             "ticks": ""
            },
            "type": "contourcarpet"
           }
          ],
          "heatmap": [
           {
            "colorbar": {
             "outlinewidth": 0,
             "ticks": ""
            },
            "colorscale": [
             [
              0,
              "#0d0887"
             ],
             [
              0.1111111111111111,
              "#46039f"
             ],
             [
              0.2222222222222222,
              "#7201a8"
             ],
             [
              0.3333333333333333,
              "#9c179e"
             ],
             [
              0.4444444444444444,
              "#bd3786"
             ],
             [
              0.5555555555555556,
              "#d8576b"
             ],
             [
              0.6666666666666666,
              "#ed7953"
             ],
             [
              0.7777777777777778,
              "#fb9f3a"
             ],
             [
              0.8888888888888888,
              "#fdca26"
             ],
             [
              1,
              "#f0f921"
             ]
            ],
            "type": "heatmap"
           }
          ],
          "histogram": [
           {
            "marker": {
             "pattern": {
              "fillmode": "overlay",
              "size": 10,
              "solidity": 0.2
             }
            },
            "type": "histogram"
           }
          ],
          "histogram2d": [
           {
            "colorbar": {
             "outlinewidth": 0,
             "ticks": ""
            },
            "colorscale": [
             [
              0,
              "#0d0887"
             ],
             [
              0.1111111111111111,
              "#46039f"
             ],
             [
              0.2222222222222222,
              "#7201a8"
             ],
             [
              0.3333333333333333,
              "#9c179e"
             ],
             [
              0.4444444444444444,
              "#bd3786"
             ],
             [
              0.5555555555555556,
              "#d8576b"
             ],
             [
              0.6666666666666666,
              "#ed7953"
             ],
             [
              0.7777777777777778,
              "#fb9f3a"
             ],
             [
              0.8888888888888888,
              "#fdca26"
             ],
             [
              1,
              "#f0f921"
             ]
            ],
            "type": "histogram2d"
           }
          ],
          "histogram2dcontour": [
           {
            "colorbar": {
             "outlinewidth": 0,
             "ticks": ""
            },
            "colorscale": [
             [
              0,
              "#0d0887"
             ],
             [
              0.1111111111111111,
              "#46039f"
             ],
             [
              0.2222222222222222,
              "#7201a8"
             ],
             [
              0.3333333333333333,
              "#9c179e"
             ],
             [
              0.4444444444444444,
              "#bd3786"
             ],
             [
              0.5555555555555556,
              "#d8576b"
             ],
             [
              0.6666666666666666,
              "#ed7953"
             ],
             [
              0.7777777777777778,
              "#fb9f3a"
             ],
             [
              0.8888888888888888,
              "#fdca26"
             ],
             [
              1,
              "#f0f921"
             ]
            ],
            "type": "histogram2dcontour"
           }
          ],
          "mesh3d": [
           {
            "colorbar": {
             "outlinewidth": 0,
             "ticks": ""
            },
            "type": "mesh3d"
           }
          ],
          "parcoords": [
           {
            "line": {
             "colorbar": {
              "outlinewidth": 0,
              "ticks": ""
             }
            },
            "type": "parcoords"
           }
          ],
          "pie": [
           {
            "automargin": true,
            "type": "pie"
           }
          ],
          "scatter": [
           {
            "fillpattern": {
             "fillmode": "overlay",
             "size": 10,
             "solidity": 0.2
            },
            "type": "scatter"
           }
          ],
          "scatter3d": [
           {
            "line": {
             "colorbar": {
              "outlinewidth": 0,
              "ticks": ""
             }
            },
            "marker": {
             "colorbar": {
              "outlinewidth": 0,
              "ticks": ""
             }
            },
            "type": "scatter3d"
           }
          ],
          "scattercarpet": [
           {
            "marker": {
             "colorbar": {
              "outlinewidth": 0,
              "ticks": ""
             }
            },
            "type": "scattercarpet"
           }
          ],
          "scattergeo": [
           {
            "marker": {
             "colorbar": {
              "outlinewidth": 0,
              "ticks": ""
             }
            },
            "type": "scattergeo"
           }
          ],
          "scattergl": [
           {
            "marker": {
             "colorbar": {
              "outlinewidth": 0,
              "ticks": ""
             }
            },
            "type": "scattergl"
           }
          ],
          "scattermap": [
           {
            "marker": {
             "colorbar": {
              "outlinewidth": 0,
              "ticks": ""
             }
            },
            "type": "scattermap"
           }
          ],
          "scattermapbox": [
           {
            "marker": {
             "colorbar": {
              "outlinewidth": 0,
              "ticks": ""
             }
            },
            "type": "scattermapbox"
           }
          ],
          "scatterpolar": [
           {
            "marker": {
             "colorbar": {
              "outlinewidth": 0,
              "ticks": ""
             }
            },
            "type": "scatterpolar"
           }
          ],
          "scatterpolargl": [
           {
            "marker": {
             "colorbar": {
              "outlinewidth": 0,
              "ticks": ""
             }
            },
            "type": "scatterpolargl"
           }
          ],
          "scatterternary": [
           {
            "marker": {
             "colorbar": {
              "outlinewidth": 0,
              "ticks": ""
             }
            },
            "type": "scatterternary"
           }
          ],
          "surface": [
           {
            "colorbar": {
             "outlinewidth": 0,
             "ticks": ""
            },
            "colorscale": [
             [
              0,
              "#0d0887"
             ],
             [
              0.1111111111111111,
              "#46039f"
             ],
             [
              0.2222222222222222,
              "#7201a8"
             ],
             [
              0.3333333333333333,
              "#9c179e"
             ],
             [
              0.4444444444444444,
              "#bd3786"
             ],
             [
              0.5555555555555556,
              "#d8576b"
             ],
             [
              0.6666666666666666,
              "#ed7953"
             ],
             [
              0.7777777777777778,
              "#fb9f3a"
             ],
             [
              0.8888888888888888,
              "#fdca26"
             ],
             [
              1,
              "#f0f921"
             ]
            ],
            "type": "surface"
           }
          ],
          "table": [
           {
            "cells": {
             "fill": {
              "color": "#EBF0F8"
             },
             "line": {
              "color": "white"
             }
            },
            "header": {
             "fill": {
              "color": "#C8D4E3"
             },
             "line": {
              "color": "white"
             }
            },
            "type": "table"
           }
          ]
         },
         "layout": {
          "annotationdefaults": {
           "arrowcolor": "#2a3f5f",
           "arrowhead": 0,
           "arrowwidth": 1
          },
          "autotypenumbers": "strict",
          "coloraxis": {
           "colorbar": {
            "outlinewidth": 0,
            "ticks": ""
           }
          },
          "colorscale": {
           "diverging": [
            [
             0,
             "#8e0152"
            ],
            [
             0.1,
             "#c51b7d"
            ],
            [
             0.2,
             "#de77ae"
            ],
            [
             0.3,
             "#f1b6da"
            ],
            [
             0.4,
             "#fde0ef"
            ],
            [
             0.5,
             "#f7f7f7"
            ],
            [
             0.6,
             "#e6f5d0"
            ],
            [
             0.7,
             "#b8e186"
            ],
            [
             0.8,
             "#7fbc41"
            ],
            [
             0.9,
             "#4d9221"
            ],
            [
             1,
             "#276419"
            ]
           ],
           "sequential": [
            [
             0,
             "#0d0887"
            ],
            [
             0.1111111111111111,
             "#46039f"
            ],
            [
             0.2222222222222222,
             "#7201a8"
            ],
            [
             0.3333333333333333,
             "#9c179e"
            ],
            [
             0.4444444444444444,
             "#bd3786"
            ],
            [
             0.5555555555555556,
             "#d8576b"
            ],
            [
             0.6666666666666666,
             "#ed7953"
            ],
            [
             0.7777777777777778,
             "#fb9f3a"
            ],
            [
             0.8888888888888888,
             "#fdca26"
            ],
            [
             1,
             "#f0f921"
            ]
           ],
           "sequentialminus": [
            [
             0,
             "#0d0887"
            ],
            [
             0.1111111111111111,
             "#46039f"
            ],
            [
             0.2222222222222222,
             "#7201a8"
            ],
            [
             0.3333333333333333,
             "#9c179e"
            ],
            [
             0.4444444444444444,
             "#bd3786"
            ],
            [
             0.5555555555555556,
             "#d8576b"
            ],
            [
             0.6666666666666666,
             "#ed7953"
            ],
            [
             0.7777777777777778,
             "#fb9f3a"
            ],
            [
             0.8888888888888888,
             "#fdca26"
            ],
            [
             1,
             "#f0f921"
            ]
           ]
          },
          "colorway": [
           "#636efa",
           "#EF553B",
           "#00cc96",
           "#ab63fa",
           "#FFA15A",
           "#19d3f3",
           "#FF6692",
           "#B6E880",
           "#FF97FF",
           "#FECB52"
          ],
          "font": {
           "color": "#2a3f5f"
          },
          "geo": {
           "bgcolor": "white",
           "lakecolor": "white",
           "landcolor": "#E5ECF6",
           "showlakes": true,
           "showland": true,
           "subunitcolor": "white"
          },
          "hoverlabel": {
           "align": "left"
          },
          "hovermode": "closest",
          "mapbox": {
           "style": "light"
          },
          "paper_bgcolor": "white",
          "plot_bgcolor": "#E5ECF6",
          "polar": {
           "angularaxis": {
            "gridcolor": "white",
            "linecolor": "white",
            "ticks": ""
           },
           "bgcolor": "#E5ECF6",
           "radialaxis": {
            "gridcolor": "white",
            "linecolor": "white",
            "ticks": ""
           }
          },
          "scene": {
           "xaxis": {
            "backgroundcolor": "#E5ECF6",
            "gridcolor": "white",
            "gridwidth": 2,
            "linecolor": "white",
            "showbackground": true,
            "ticks": "",
            "zerolinecolor": "white"
           },
           "yaxis": {
            "backgroundcolor": "#E5ECF6",
            "gridcolor": "white",
            "gridwidth": 2,
            "linecolor": "white",
            "showbackground": true,
            "ticks": "",
            "zerolinecolor": "white"
           },
           "zaxis": {
            "backgroundcolor": "#E5ECF6",
            "gridcolor": "white",
            "gridwidth": 2,
            "linecolor": "white",
            "showbackground": true,
            "ticks": "",
            "zerolinecolor": "white"
           }
          },
          "shapedefaults": {
           "line": {
            "color": "#2a3f5f"
           }
          },
          "ternary": {
           "aaxis": {
            "gridcolor": "white",
            "linecolor": "white",
            "ticks": ""
           },
           "baxis": {
            "gridcolor": "white",
            "linecolor": "white",
            "ticks": ""
           },
           "bgcolor": "#E5ECF6",
           "caxis": {
            "gridcolor": "white",
            "linecolor": "white",
            "ticks": ""
           }
          },
          "title": {
           "x": 0.05
          },
          "xaxis": {
           "automargin": true,
           "gridcolor": "white",
           "linecolor": "white",
           "ticks": "",
           "title": {
            "standoff": 15
           },
           "zerolinecolor": "white",
           "zerolinewidth": 2
          },
          "yaxis": {
           "automargin": true,
           "gridcolor": "white",
           "linecolor": "white",
           "ticks": "",
           "title": {
            "standoff": 15
           },
           "zerolinecolor": "white",
           "zerolinewidth": 2
          }
         }
        },
        "title": {
         "text": "Hyperparameter Importances"
        },
        "xaxis": {
         "title": {
          "text": "Hyperparameter Importance"
         }
        },
        "yaxis": {
         "title": {
          "text": "Hyperparameter"
         }
        }
       }
      }
     },
     "metadata": {},
     "output_type": "display_data"
    },
    {
     "data": {
      "application/vnd.plotly.v1+json": {
       "config": {
        "plotlyServerURL": "https://plot.ly"
       },
       "data": [
        {
         "dimensions": [
          {
           "label": "Objective Value",
           "range": [
            0.3757201090455055,
            0.5911669815874291
           ],
           "values": [
            0.3783166706562042,
            0.37602426707744596,
            0.3760459594428539,
            0.38046547770500183,
            0.37687432393431664,
            0.3773183703422546,
            0.3881782019748662,
            0.37770662009716033,
            0.37604702115058897,
            0.3773972049355507,
            0.3761492624878883,
            0.3760488472878933,
            0.3760315179824829,
            0.37605140209197996,
            0.376958654820919,
            0.3758451223373413,
            0.37753126621246336,
            0.37642158940434456,
            0.37602824345231056,
            0.37751077637076375,
            0.3760655775666237,
            0.3760320208966732,
            0.3764334425330162,
            0.3760388359427452,
            0.3760359033942222,
            0.3764184109866619,
            0.37700094431638714,
            0.3762510098516941,
            0.3776154540479183,
            0.3760672181844711,
            0.3764647349715233,
            0.3762922130525112,
            0.37606981992721555,
            0.3764975383877754,
            0.3760326378047466,
            0.3760289318859577,
            0.37646733447909353,
            0.3777822069823742,
            0.37603252604603765,
            0.3771230027079582,
            0.3760257847607136,
            0.37602680176496506,
            0.3760279461741447,
            0.3757201090455055,
            0.376035326719284,
            0.37603902369737624,
            0.37626288980245587,
            0.37603612914681434,
            0.3760305367410183,
            0.37636226788163185,
            0.3760302416980266,
            0.375955019146204,
            0.3762370601296425,
            0.5911669815874291,
            0.3760360576212406,
            0.3813829831779003,
            0.37802389860153196,
            0.37604672834277153,
            0.37618092149496074,
            0.3760388314723968
           ]
          },
          {
           "label": "dropout",
           "range": [
            0.10689011668256193,
            0.4997295469591611
           ],
           "values": [
            0.15979167439900618,
            0.20008028903711825,
            0.24954236601752278,
            0.31558288999598455,
            0.17682680002390103,
            0.39114073353571277,
            0.13999722141267879,
            0.21743534766389036,
            0.2243766770840825,
            0.38868057627998454,
            0.2981732853245443,
            0.4997295469591611,
            0.2734375625372872,
            0.28891287073800176,
            0.11060359570715189,
            0.3636573208582269,
            0.3616101942738942,
            0.4557260791236149,
            0.34625640864029195,
            0.1969208403265441,
            0.4299715695786045,
            0.34226283177876904,
            0.34293827073990063,
            0.4088327075852212,
            0.2647061635272005,
            0.3121356691368409,
            0.3544939297315957,
            0.4537174014837315,
            0.23310303159801227,
            0.1641604508289493,
            0.38328685022946196,
            0.28982535966712,
            0.32574783481893005,
            0.2624526301474255,
            0.19763694853208608,
            0.2739661277468236,
            0.32487854457261583,
            0.14157104755865163,
            0.23628565065864493,
            0.19236470283492368,
            0.371146001763551,
            0.3757891716959307,
            0.3766916632979921,
            0.37609066861548396,
            0.3689485387765398,
            0.4113850468034058,
            0.40364783019399025,
            0.43302964084039763,
            0.39294813399715867,
            0.4919515156505283,
            0.4277366822092192,
            0.375258200243421,
            0.363440331571434,
            0.33327848462821036,
            0.31201156877241976,
            0.10689011668256193,
            0.3954272565821858,
            0.37502421725067075,
            0.35480664296013087,
            0.4223246729915787
           ]
          },
          {
           "label": "linear1_output",
           "range": [
            167,
            1018
           ],
           "values": [
            974,
            800,
            711,
            535,
            385,
            332,
            671,
            928,
            212,
            220,
            785,
            777,
            582,
            517,
            845,
            577,
            628,
            441,
            873,
            743,
            453,
            918,
            876,
            999,
            825,
            667,
            601,
            884,
            707,
            979,
            803,
            543,
            304,
            623,
            472,
            565,
            379,
            729,
            678,
            1018,
            532,
            516,
            493,
            497,
            369,
            433,
            321,
            516,
            417,
            256,
            559,
            490,
            490,
            522,
            404,
            600,
            480,
            167,
            651,
            361
           ]
          },
          {
           "label": "linear2_output",
           "range": [
            65,
            496
           ],
           "values": [
            136,
            281,
            165,
            289,
            278,
            436,
            340,
            187,
            364,
            425,
            65,
            208,
            235,
            278,
            496,
            239,
            347,
            74,
            244,
            394,
            130,
            247,
            307,
            256,
            309,
            209,
            225,
            166,
            122,
            326,
            260,
            234,
            187,
            161,
            290,
            269,
            266,
            299,
            365,
            208,
            277,
            325,
            324,
            321,
            383,
            340,
            412,
            364,
            290,
            329,
            473,
            321,
            277,
            313,
            353,
            285,
            381,
            318,
            222,
            297
           ]
          },
          {
           "label": "linear3_output",
           "range": [
            36,
            256
           ],
           "values": [
            129,
            156,
            126,
            144,
            230,
            64,
            248,
            74,
            95,
            172,
            184,
            113,
            181,
            203,
            163,
            211,
            210,
            221,
            40,
            250,
            156,
            49,
            90,
            36,
            192,
            108,
            138,
            228,
            152,
            128,
            205,
            176,
            191,
            170,
            141,
            182,
            214,
            237,
            120,
            75,
            197,
            195,
            193,
            195,
            202,
            221,
            239,
            165,
            197,
            216,
            152,
            189,
            185,
            210,
            228,
            256,
            176,
            159,
            203,
            185
           ]
          },
          {
           "label": "lr",
           "range": [
            -3.9507380831525176,
            -2.001790112504993
           ],
           "ticktext": [
            "0.000112",
            "0.001",
            "0.00996"
           ],
           "tickvals": [
            -3.9507380831525176,
            -3,
            -2.001790112504993
           ],
           "values": [
            -3.8894093413617625,
            -2.3047257142055786,
            -2.0212168374693444,
            -3.652048525728245,
            -2.796568706759603,
            -3.8835970147023597,
            -3.76742679280391,
            -3.5070983947014454,
            -2.003145361325668,
            -3.748317403312134,
            -2.5839353171558463,
            -2.087633275140531,
            -2.3707391135172364,
            -2.449204317869055,
            -3.3025033385289917,
            -2.413730092203409,
            -3.0337237606117124,
            -2.2945142553178486,
            -2.7509353073377736,
            -2.9935253206896952,
            -2.2687953629162787,
            -2.6570623969707463,
            -2.8113835164934096,
            -2.5511765734656855,
            -2.2354536827036067,
            -2.7679925906284044,
            -2.986625443243316,
            -2.4632707377032035,
            -3.1866790922229393,
            -2.1692915963199026,
            -2.733728803920386,
            -2.3896650194466345,
            -2.4103214049061843,
            -2.5708016942418506,
            -2.152434068734079,
            -2.338784250607933,
            -2.8400863457677206,
            -2.6513770093785958,
            -2.323680628876824,
            -2.897635734272088,
            -2.507952352094173,
            -2.4748603653913963,
            -2.513246204023743,
            -2.507533538151157,
            -2.08481131623772,
            -2.195327112137366,
            -2.648265639520553,
            -2.488031273118896,
            -2.001790112504993,
            -3.5533500831809515,
            -2.1131899093581956,
            -2.4861176456954137,
            -2.4228064150876034,
            -2.6215212564128603,
            -2.2712534542111573,
            -2.5402025361517735,
            -3.9507380831525176,
            -2.3796121798856964,
            -2.7068904180660898,
            -2.2401159958476913
           ]
          }
         ],
         "labelangle": 30,
         "labelside": "bottom",
         "line": {
          "color": [
           0.3783166706562042,
           0.37602426707744596,
           0.3760459594428539,
           0.38046547770500183,
           0.37687432393431664,
           0.3773183703422546,
           0.3881782019748662,
           0.37770662009716033,
           0.37604702115058897,
           0.3773972049355507,
           0.3761492624878883,
           0.3760488472878933,
           0.3760315179824829,
           0.37605140209197996,
           0.376958654820919,
           0.3758451223373413,
           0.37753126621246336,
           0.37642158940434456,
           0.37602824345231056,
           0.37751077637076375,
           0.3760655775666237,
           0.3760320208966732,
           0.3764334425330162,
           0.3760388359427452,
           0.3760359033942222,
           0.3764184109866619,
           0.37700094431638714,
           0.3762510098516941,
           0.3776154540479183,
           0.3760672181844711,
           0.3764647349715233,
           0.3762922130525112,
           0.37606981992721555,
           0.3764975383877754,
           0.3760326378047466,
           0.3760289318859577,
           0.37646733447909353,
           0.3777822069823742,
           0.37603252604603765,
           0.3771230027079582,
           0.3760257847607136,
           0.37602680176496506,
           0.3760279461741447,
           0.3757201090455055,
           0.376035326719284,
           0.37603902369737624,
           0.37626288980245587,
           0.37603612914681434,
           0.3760305367410183,
           0.37636226788163185,
           0.3760302416980266,
           0.375955019146204,
           0.3762370601296425,
           0.5911669815874291,
           0.3760360576212406,
           0.3813829831779003,
           0.37802389860153196,
           0.37604672834277153,
           0.37618092149496074,
           0.3760388314723968
          ],
          "colorbar": {
           "title": {
            "text": "Objective Value"
           }
          },
          "colorscale": [
           [
            0,
            "rgb(247,251,255)"
           ],
           [
            0.125,
            "rgb(222,235,247)"
           ],
           [
            0.25,
            "rgb(198,219,239)"
           ],
           [
            0.375,
            "rgb(158,202,225)"
           ],
           [
            0.5,
            "rgb(107,174,214)"
           ],
           [
            0.625,
            "rgb(66,146,198)"
           ],
           [
            0.75,
            "rgb(33,113,181)"
           ],
           [
            0.875,
            "rgb(8,81,156)"
           ],
           [
            1,
            "rgb(8,48,107)"
           ]
          ],
          "reversescale": true,
          "showscale": true
         },
         "type": "parcoords"
        }
       ],
       "layout": {
        "template": {
         "data": {
          "bar": [
           {
            "error_x": {
             "color": "#2a3f5f"
            },
            "error_y": {
             "color": "#2a3f5f"
            },
            "marker": {
             "line": {
              "color": "#E5ECF6",
              "width": 0.5
             },
             "pattern": {
              "fillmode": "overlay",
              "size": 10,
              "solidity": 0.2
             }
            },
            "type": "bar"
           }
          ],
          "barpolar": [
           {
            "marker": {
             "line": {
              "color": "#E5ECF6",
              "width": 0.5
             },
             "pattern": {
              "fillmode": "overlay",
              "size": 10,
              "solidity": 0.2
             }
            },
            "type": "barpolar"
           }
          ],
          "carpet": [
           {
            "aaxis": {
             "endlinecolor": "#2a3f5f",
             "gridcolor": "white",
             "linecolor": "white",
             "minorgridcolor": "white",
             "startlinecolor": "#2a3f5f"
            },
            "baxis": {
             "endlinecolor": "#2a3f5f",
             "gridcolor": "white",
             "linecolor": "white",
             "minorgridcolor": "white",
             "startlinecolor": "#2a3f5f"
            },
            "type": "carpet"
           }
          ],
          "choropleth": [
           {
            "colorbar": {
             "outlinewidth": 0,
             "ticks": ""
            },
            "type": "choropleth"
           }
          ],
          "contour": [
           {
            "colorbar": {
             "outlinewidth": 0,
             "ticks": ""
            },
            "colorscale": [
             [
              0,
              "#0d0887"
             ],
             [
              0.1111111111111111,
              "#46039f"
             ],
             [
              0.2222222222222222,
              "#7201a8"
             ],
             [
              0.3333333333333333,
              "#9c179e"
             ],
             [
              0.4444444444444444,
              "#bd3786"
             ],
             [
              0.5555555555555556,
              "#d8576b"
             ],
             [
              0.6666666666666666,
              "#ed7953"
             ],
             [
              0.7777777777777778,
              "#fb9f3a"
             ],
             [
              0.8888888888888888,
              "#fdca26"
             ],
             [
              1,
              "#f0f921"
             ]
            ],
            "type": "contour"
           }
          ],
          "contourcarpet": [
           {
            "colorbar": {
             "outlinewidth": 0,
             "ticks": ""
            },
            "type": "contourcarpet"
           }
          ],
          "heatmap": [
           {
            "colorbar": {
             "outlinewidth": 0,
             "ticks": ""
            },
            "colorscale": [
             [
              0,
              "#0d0887"
             ],
             [
              0.1111111111111111,
              "#46039f"
             ],
             [
              0.2222222222222222,
              "#7201a8"
             ],
             [
              0.3333333333333333,
              "#9c179e"
             ],
             [
              0.4444444444444444,
              "#bd3786"
             ],
             [
              0.5555555555555556,
              "#d8576b"
             ],
             [
              0.6666666666666666,
              "#ed7953"
             ],
             [
              0.7777777777777778,
              "#fb9f3a"
             ],
             [
              0.8888888888888888,
              "#fdca26"
             ],
             [
              1,
              "#f0f921"
             ]
            ],
            "type": "heatmap"
           }
          ],
          "histogram": [
           {
            "marker": {
             "pattern": {
              "fillmode": "overlay",
              "size": 10,
              "solidity": 0.2
             }
            },
            "type": "histogram"
           }
          ],
          "histogram2d": [
           {
            "colorbar": {
             "outlinewidth": 0,
             "ticks": ""
            },
            "colorscale": [
             [
              0,
              "#0d0887"
             ],
             [
              0.1111111111111111,
              "#46039f"
             ],
             [
              0.2222222222222222,
              "#7201a8"
             ],
             [
              0.3333333333333333,
              "#9c179e"
             ],
             [
              0.4444444444444444,
              "#bd3786"
             ],
             [
              0.5555555555555556,
              "#d8576b"
             ],
             [
              0.6666666666666666,
              "#ed7953"
             ],
             [
              0.7777777777777778,
              "#fb9f3a"
             ],
             [
              0.8888888888888888,
              "#fdca26"
             ],
             [
              1,
              "#f0f921"
             ]
            ],
            "type": "histogram2d"
           }
          ],
          "histogram2dcontour": [
           {
            "colorbar": {
             "outlinewidth": 0,
             "ticks": ""
            },
            "colorscale": [
             [
              0,
              "#0d0887"
             ],
             [
              0.1111111111111111,
              "#46039f"
             ],
             [
              0.2222222222222222,
              "#7201a8"
             ],
             [
              0.3333333333333333,
              "#9c179e"
             ],
             [
              0.4444444444444444,
              "#bd3786"
             ],
             [
              0.5555555555555556,
              "#d8576b"
             ],
             [
              0.6666666666666666,
              "#ed7953"
             ],
             [
              0.7777777777777778,
              "#fb9f3a"
             ],
             [
              0.8888888888888888,
              "#fdca26"
             ],
             [
              1,
              "#f0f921"
             ]
            ],
            "type": "histogram2dcontour"
           }
          ],
          "mesh3d": [
           {
            "colorbar": {
             "outlinewidth": 0,
             "ticks": ""
            },
            "type": "mesh3d"
           }
          ],
          "parcoords": [
           {
            "line": {
             "colorbar": {
              "outlinewidth": 0,
              "ticks": ""
             }
            },
            "type": "parcoords"
           }
          ],
          "pie": [
           {
            "automargin": true,
            "type": "pie"
           }
          ],
          "scatter": [
           {
            "fillpattern": {
             "fillmode": "overlay",
             "size": 10,
             "solidity": 0.2
            },
            "type": "scatter"
           }
          ],
          "scatter3d": [
           {
            "line": {
             "colorbar": {
              "outlinewidth": 0,
              "ticks": ""
             }
            },
            "marker": {
             "colorbar": {
              "outlinewidth": 0,
              "ticks": ""
             }
            },
            "type": "scatter3d"
           }
          ],
          "scattercarpet": [
           {
            "marker": {
             "colorbar": {
              "outlinewidth": 0,
              "ticks": ""
             }
            },
            "type": "scattercarpet"
           }
          ],
          "scattergeo": [
           {
            "marker": {
             "colorbar": {
              "outlinewidth": 0,
              "ticks": ""
             }
            },
            "type": "scattergeo"
           }
          ],
          "scattergl": [
           {
            "marker": {
             "colorbar": {
              "outlinewidth": 0,
              "ticks": ""
             }
            },
            "type": "scattergl"
           }
          ],
          "scattermap": [
           {
            "marker": {
             "colorbar": {
              "outlinewidth": 0,
              "ticks": ""
             }
            },
            "type": "scattermap"
           }
          ],
          "scattermapbox": [
           {
            "marker": {
             "colorbar": {
              "outlinewidth": 0,
              "ticks": ""
             }
            },
            "type": "scattermapbox"
           }
          ],
          "scatterpolar": [
           {
            "marker": {
             "colorbar": {
              "outlinewidth": 0,
              "ticks": ""
             }
            },
            "type": "scatterpolar"
           }
          ],
          "scatterpolargl": [
           {
            "marker": {
             "colorbar": {
              "outlinewidth": 0,
              "ticks": ""
             }
            },
            "type": "scatterpolargl"
           }
          ],
          "scatterternary": [
           {
            "marker": {
             "colorbar": {
              "outlinewidth": 0,
              "ticks": ""
             }
            },
            "type": "scatterternary"
           }
          ],
          "surface": [
           {
            "colorbar": {
             "outlinewidth": 0,
             "ticks": ""
            },
            "colorscale": [
             [
              0,
              "#0d0887"
             ],
             [
              0.1111111111111111,
              "#46039f"
             ],
             [
              0.2222222222222222,
              "#7201a8"
             ],
             [
              0.3333333333333333,
              "#9c179e"
             ],
             [
              0.4444444444444444,
              "#bd3786"
             ],
             [
              0.5555555555555556,
              "#d8576b"
             ],
             [
              0.6666666666666666,
              "#ed7953"
             ],
             [
              0.7777777777777778,
              "#fb9f3a"
             ],
             [
              0.8888888888888888,
              "#fdca26"
             ],
             [
              1,
              "#f0f921"
             ]
            ],
            "type": "surface"
           }
          ],
          "table": [
           {
            "cells": {
             "fill": {
              "color": "#EBF0F8"
             },
             "line": {
              "color": "white"
             }
            },
            "header": {
             "fill": {
              "color": "#C8D4E3"
             },
             "line": {
              "color": "white"
             }
            },
            "type": "table"
           }
          ]
         },
         "layout": {
          "annotationdefaults": {
           "arrowcolor": "#2a3f5f",
           "arrowhead": 0,
           "arrowwidth": 1
          },
          "autotypenumbers": "strict",
          "coloraxis": {
           "colorbar": {
            "outlinewidth": 0,
            "ticks": ""
           }
          },
          "colorscale": {
           "diverging": [
            [
             0,
             "#8e0152"
            ],
            [
             0.1,
             "#c51b7d"
            ],
            [
             0.2,
             "#de77ae"
            ],
            [
             0.3,
             "#f1b6da"
            ],
            [
             0.4,
             "#fde0ef"
            ],
            [
             0.5,
             "#f7f7f7"
            ],
            [
             0.6,
             "#e6f5d0"
            ],
            [
             0.7,
             "#b8e186"
            ],
            [
             0.8,
             "#7fbc41"
            ],
            [
             0.9,
             "#4d9221"
            ],
            [
             1,
             "#276419"
            ]
           ],
           "sequential": [
            [
             0,
             "#0d0887"
            ],
            [
             0.1111111111111111,
             "#46039f"
            ],
            [
             0.2222222222222222,
             "#7201a8"
            ],
            [
             0.3333333333333333,
             "#9c179e"
            ],
            [
             0.4444444444444444,
             "#bd3786"
            ],
            [
             0.5555555555555556,
             "#d8576b"
            ],
            [
             0.6666666666666666,
             "#ed7953"
            ],
            [
             0.7777777777777778,
             "#fb9f3a"
            ],
            [
             0.8888888888888888,
             "#fdca26"
            ],
            [
             1,
             "#f0f921"
            ]
           ],
           "sequentialminus": [
            [
             0,
             "#0d0887"
            ],
            [
             0.1111111111111111,
             "#46039f"
            ],
            [
             0.2222222222222222,
             "#7201a8"
            ],
            [
             0.3333333333333333,
             "#9c179e"
            ],
            [
             0.4444444444444444,
             "#bd3786"
            ],
            [
             0.5555555555555556,
             "#d8576b"
            ],
            [
             0.6666666666666666,
             "#ed7953"
            ],
            [
             0.7777777777777778,
             "#fb9f3a"
            ],
            [
             0.8888888888888888,
             "#fdca26"
            ],
            [
             1,
             "#f0f921"
            ]
           ]
          },
          "colorway": [
           "#636efa",
           "#EF553B",
           "#00cc96",
           "#ab63fa",
           "#FFA15A",
           "#19d3f3",
           "#FF6692",
           "#B6E880",
           "#FF97FF",
           "#FECB52"
          ],
          "font": {
           "color": "#2a3f5f"
          },
          "geo": {
           "bgcolor": "white",
           "lakecolor": "white",
           "landcolor": "#E5ECF6",
           "showlakes": true,
           "showland": true,
           "subunitcolor": "white"
          },
          "hoverlabel": {
           "align": "left"
          },
          "hovermode": "closest",
          "mapbox": {
           "style": "light"
          },
          "paper_bgcolor": "white",
          "plot_bgcolor": "#E5ECF6",
          "polar": {
           "angularaxis": {
            "gridcolor": "white",
            "linecolor": "white",
            "ticks": ""
           },
           "bgcolor": "#E5ECF6",
           "radialaxis": {
            "gridcolor": "white",
            "linecolor": "white",
            "ticks": ""
           }
          },
          "scene": {
           "xaxis": {
            "backgroundcolor": "#E5ECF6",
            "gridcolor": "white",
            "gridwidth": 2,
            "linecolor": "white",
            "showbackground": true,
            "ticks": "",
            "zerolinecolor": "white"
           },
           "yaxis": {
            "backgroundcolor": "#E5ECF6",
            "gridcolor": "white",
            "gridwidth": 2,
            "linecolor": "white",
            "showbackground": true,
            "ticks": "",
            "zerolinecolor": "white"
           },
           "zaxis": {
            "backgroundcolor": "#E5ECF6",
            "gridcolor": "white",
            "gridwidth": 2,
            "linecolor": "white",
            "showbackground": true,
            "ticks": "",
            "zerolinecolor": "white"
           }
          },
          "shapedefaults": {
           "line": {
            "color": "#2a3f5f"
           }
          },
          "ternary": {
           "aaxis": {
            "gridcolor": "white",
            "linecolor": "white",
            "ticks": ""
           },
           "baxis": {
            "gridcolor": "white",
            "linecolor": "white",
            "ticks": ""
           },
           "bgcolor": "#E5ECF6",
           "caxis": {
            "gridcolor": "white",
            "linecolor": "white",
            "ticks": ""
           }
          },
          "title": {
           "x": 0.05
          },
          "xaxis": {
           "automargin": true,
           "gridcolor": "white",
           "linecolor": "white",
           "ticks": "",
           "title": {
            "standoff": 15
           },
           "zerolinecolor": "white",
           "zerolinewidth": 2
          },
          "yaxis": {
           "automargin": true,
           "gridcolor": "white",
           "linecolor": "white",
           "ticks": "",
           "title": {
            "standoff": 15
           },
           "zerolinecolor": "white",
           "zerolinewidth": 2
          }
         }
        },
        "title": {
         "text": "Parallel Coordinate Plot"
        }
       }
      }
     },
     "metadata": {},
     "output_type": "display_data"
    }
   ],
   "source": [
    "# visualize the study\n",
    "optuna.visualization.plot_optimization_history(study).show()\n",
    "\n",
    "optuna.visualization.plot_param_importances(study).show()\n",
    "\n",
    "optuna.visualization.plot_parallel_coordinate(study).show()"
   ]
  },
  {
   "cell_type": "code",
   "execution_count": 40,
   "id": "9616311b",
   "metadata": {},
   "outputs": [],
   "source": [
    "import torch\n",
    "import joblib\n",
    "import numpy as np\n",
    "from utils.Model_FFNN import FCSequencePredictor\n",
    "\n",
    "# Hyperparameter erneut setzen\n",
    "input_dim = 22  # Passe an deine Daten an\n",
    "seq_len = 168\n",
    "output_horizon = 168\n",
    "\n",
    "# Modell initialisieren\n",
    "model = FCSequencePredictor(\n",
    "    input_dim=X_train_tensor.shape[2],\n",
    "    seq_len=seq_len,\n",
    "    linear1_output=linear1_output,\n",
    "    linear2_output=linear2_output,\n",
    "    linear3_output=linear3_output,\n",
    "    output_horizon=output_horizon,\n",
    "    n_classes=5,\n",
    "    dropout=dropout,\n",
    ")\n",
    "\n",
    "# map \n",
    "\n",
    "# Modell-Gewichte laden\n",
    "model.load_state_dict(torch.load(\"models/fcsequence_model.pth\", map_location=torch.device('cpu')))\n",
    "model.eval()\n",
    "\n",
    "# Scaler laden\n",
    "x_scaler = joblib.load(\"models/x_scaler.pkl\")\n",
    "\n"
   ]
  },
  {
   "cell_type": "code",
   "execution_count": 43,
   "id": "53941fb2",
   "metadata": {},
   "outputs": [
    {
     "data": {
      "text/plain": [
       "(1968, 168, 678)"
      ]
     },
     "execution_count": 43,
     "metadata": {},
     "output_type": "execute_result"
    }
   ],
   "source": [
    "X_test.shape"
   ]
  },
  {
   "cell_type": "code",
   "execution_count": 44,
   "id": "cd1a243c",
   "metadata": {},
   "outputs": [],
   "source": [
    "# Neue Daten vorbereiten und skalieren\n",
    "# X_new: shape (n_samples, seq_len, input_dim)\n",
    "X_new_scaled = x_scaler.transform(X_test.reshape(-1, X_test.shape[-1])).reshape(X_test.shape)\n",
    "X_new_tensor = torch.tensor(X_new_scaled, dtype=torch.float32)\n",
    "\n",
    "# Vorhersage\n",
    "with torch.no_grad():\n",
    "    y_pred, _ = model.predict(X_new_tensor.to(next(model.parameters()).device))\n"
   ]
  },
  {
   "cell_type": "code",
   "execution_count": 49,
   "id": "316a0fef",
   "metadata": {},
   "outputs": [
    {
     "data": {
      "image/png": "[encoded data removed]",
      "text/plain": [
       "<Figure size 1000x200 with 1 Axes>"
      ]
     },
     "metadata": {},
     "output_type": "display_data"
    }
   ],
   "source": [
    "# plot the first 100 predictions\n",
    "idx = 0\n",
    "plt.figure(figsize=(10, 2))\n",
    "plt.plot(y_test[idx], label='True Surge Data')\n",
    "plt.plot(y_pred[idx], label='Predicted Surge Data')\n",
    "plt.legend()\n",
    "plt.title(\"First 100 Predictions vs True Surge Data\")\n",
    "plt.show()"
   ]
  }
 ],
 "metadata": {
  "kernelspec": {
   "display_name": ".venv",
   "language": "python",
   "name": "python3"
  },
  "language_info": {
   "codemirror_mode": {
    "name": "ipython",
    "version": 3
   },
   "file_extension": ".py",
   "mimetype": "text/x-python",
   "name": "python",
   "nbconvert_exporter": "python",
   "pygments_lexer": "ipython3",
   "version": "3.11.12"
  }
 },
 "nbformat": 4,
 "nbformat_minor": 5
}
